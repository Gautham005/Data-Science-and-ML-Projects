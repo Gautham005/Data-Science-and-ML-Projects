{
 "cells": [
  {
   "cell_type": "markdown",
   "id": "f00d0c9a",
   "metadata": {},
   "source": [
    "## Problem\n",
    "A Chinese automobile company Geely Auto aspires to enter the US market by setting up their\n",
    "manufacturing unit there and producing cars locally to give competition to their US and\n",
    "European counterparts.\n",
    "They have contracted an automobile consulting company to understand the factor on which the\n",
    "price of cars depends. Specifically, they want to understand the factors affecting the pricing of\n",
    "cars in the American market, since those may be very different from the Chinese market. The\n",
    "company wants to know:\n",
    "\n",
    " ● Which variables are significant in predicting the price of a car.\n",
    "\n",
    " ● How well those variables describe the price of a car.\n",
    " \n",
    "Based on various market surveys, the consulting firm has gathered a large dataset of different\n",
    "types of cars across the American market."
   ]
  },
  {
   "cell_type": "markdown",
   "id": "cfb921e7",
   "metadata": {},
   "source": [
    "## Attributes\n",
    "\n",
    "1. Car_ID - Unique ID for each observation.\n",
    "2. Symboling - Its assigned insurance risk rating, value +3 indicates that the auto is risky, that it is pretty safe.\n",
    "3. carCompany - Name of company\n",
    "4. fueltype - Car fuel type.\n",
    "5. aspiration - Aspiration used in car\n",
    "6. doornumber - Number of doors in a car\n",
    "7. carbody - body of car\n",
    "8. drivewheel - type of drive wheel\n",
    "9. enginelocation - location of car engine\n",
    "10. wheelbase - Wheelbase of car\n",
    "11. carlength - length of car\n",
    "12. carwidth - width of car\n",
    "13. carheight - height of car\n",
    "14. curbweight - The weight of a car without occupants or luggage.\n",
    "15. enginetype - type of engine\n",
    "16. cylindernumber - cylinder placed in the car.\n",
    "17. enginesize - size of car.\n",
    "18. fuelsystem - Fuel system of car.\n",
    "19. boreratio - Boreratio of car\n",
    "20. stroke - Stroke or volume inside the engine.\n",
    "21. compressionratio - compression ratio of car.\n",
    "22. horsepower - Horsepower\n",
    "23. peakrpm - car peak rpm\n",
    "24. citympg - Mileage in city\n",
    "25. highwaympg - Mileage on highway\n",
    "26. Price( Dependent Variable) - Price of car"
   ]
  },
  {
   "cell_type": "markdown",
   "id": "d7a77323",
   "metadata": {},
   "source": [
    "## Objective\n",
    "You are required to model the prices of cars with the available independent variables. It will be\n",
    "used by management to understand how exactly the prices vary with the independent variables.\n",
    "They can accordingly manipulate the design of the cars, the business strategy etc. to meet\n",
    "certain price levels. Further, the model will be good for management to understand the pricing\n",
    "dynamics of the new market."
   ]
  },
  {
   "cell_type": "code",
   "execution_count": 1,
   "id": "8f36e0fb",
   "metadata": {},
   "outputs": [],
   "source": [
    "import numpy as np\n",
    "import pandas as pd\n",
    "import seaborn as sb\n",
    "import matplotlib.pyplot as mt\n",
    "from scipy import stats\n",
    "mt.rcParams['figure.figsize']=[15,10]\n",
    "import warnings\n",
    "warnings.filterwarnings('ignore')"
   ]
  },
  {
   "cell_type": "markdown",
   "id": "f291ebdc",
   "metadata": {},
   "source": [
    "## Understanding the dataset."
   ]
  },
  {
   "cell_type": "code",
   "execution_count": 26,
   "id": "4ef8fbd3",
   "metadata": {},
   "outputs": [],
   "source": [
    "pd.set_option('display.max_columns',30)"
   ]
  },
  {
   "cell_type": "code",
   "execution_count": 3,
   "id": "114eb4c6",
   "metadata": {},
   "outputs": [],
   "source": [
    "ogdf=pd.read_csv('CarPrice_Assignment.csv')"
   ]
  },
  {
   "cell_type": "code",
   "execution_count": 5,
   "id": "badcca06",
   "metadata": {},
   "outputs": [],
   "source": [
    "df=ogdf.copy(deep=True)"
   ]
  },
  {
   "cell_type": "code",
   "execution_count": 27,
   "id": "4ed25490",
   "metadata": {},
   "outputs": [
    {
     "data": {
      "text/html": [
       "<div>\n",
       "<style scoped>\n",
       "    .dataframe tbody tr th:only-of-type {\n",
       "        vertical-align: middle;\n",
       "    }\n",
       "\n",
       "    .dataframe tbody tr th {\n",
       "        vertical-align: top;\n",
       "    }\n",
       "\n",
       "    .dataframe thead th {\n",
       "        text-align: right;\n",
       "    }\n",
       "</style>\n",
       "<table border=\"1\" class=\"dataframe\">\n",
       "  <thead>\n",
       "    <tr style=\"text-align: right;\">\n",
       "      <th></th>\n",
       "      <th>car_ID</th>\n",
       "      <th>symboling</th>\n",
       "      <th>CarName</th>\n",
       "      <th>fueltype</th>\n",
       "      <th>aspiration</th>\n",
       "      <th>doornumber</th>\n",
       "      <th>carbody</th>\n",
       "      <th>drivewheel</th>\n",
       "      <th>enginelocation</th>\n",
       "      <th>wheelbase</th>\n",
       "      <th>carlength</th>\n",
       "      <th>carwidth</th>\n",
       "      <th>carheight</th>\n",
       "      <th>curbweight</th>\n",
       "      <th>enginetype</th>\n",
       "      <th>cylindernumber</th>\n",
       "      <th>enginesize</th>\n",
       "      <th>fuelsystem</th>\n",
       "      <th>boreratio</th>\n",
       "      <th>stroke</th>\n",
       "      <th>compressionratio</th>\n",
       "      <th>horsepower</th>\n",
       "      <th>peakrpm</th>\n",
       "      <th>citympg</th>\n",
       "      <th>highwaympg</th>\n",
       "      <th>price</th>\n",
       "    </tr>\n",
       "  </thead>\n",
       "  <tbody>\n",
       "    <tr>\n",
       "      <th>0</th>\n",
       "      <td>1</td>\n",
       "      <td>3</td>\n",
       "      <td>alfa-romero giulia</td>\n",
       "      <td>gas</td>\n",
       "      <td>std</td>\n",
       "      <td>two</td>\n",
       "      <td>convertible</td>\n",
       "      <td>rwd</td>\n",
       "      <td>front</td>\n",
       "      <td>88.6</td>\n",
       "      <td>168.8</td>\n",
       "      <td>64.1</td>\n",
       "      <td>48.8</td>\n",
       "      <td>2548</td>\n",
       "      <td>dohc</td>\n",
       "      <td>four</td>\n",
       "      <td>130</td>\n",
       "      <td>mpfi</td>\n",
       "      <td>3.47</td>\n",
       "      <td>2.68</td>\n",
       "      <td>9.0</td>\n",
       "      <td>111</td>\n",
       "      <td>5000</td>\n",
       "      <td>21</td>\n",
       "      <td>27</td>\n",
       "      <td>13495.0</td>\n",
       "    </tr>\n",
       "    <tr>\n",
       "      <th>1</th>\n",
       "      <td>2</td>\n",
       "      <td>3</td>\n",
       "      <td>alfa-romero stelvio</td>\n",
       "      <td>gas</td>\n",
       "      <td>std</td>\n",
       "      <td>two</td>\n",
       "      <td>convertible</td>\n",
       "      <td>rwd</td>\n",
       "      <td>front</td>\n",
       "      <td>88.6</td>\n",
       "      <td>168.8</td>\n",
       "      <td>64.1</td>\n",
       "      <td>48.8</td>\n",
       "      <td>2548</td>\n",
       "      <td>dohc</td>\n",
       "      <td>four</td>\n",
       "      <td>130</td>\n",
       "      <td>mpfi</td>\n",
       "      <td>3.47</td>\n",
       "      <td>2.68</td>\n",
       "      <td>9.0</td>\n",
       "      <td>111</td>\n",
       "      <td>5000</td>\n",
       "      <td>21</td>\n",
       "      <td>27</td>\n",
       "      <td>16500.0</td>\n",
       "    </tr>\n",
       "    <tr>\n",
       "      <th>2</th>\n",
       "      <td>3</td>\n",
       "      <td>1</td>\n",
       "      <td>alfa-romero Quadrifoglio</td>\n",
       "      <td>gas</td>\n",
       "      <td>std</td>\n",
       "      <td>two</td>\n",
       "      <td>hatchback</td>\n",
       "      <td>rwd</td>\n",
       "      <td>front</td>\n",
       "      <td>94.5</td>\n",
       "      <td>171.2</td>\n",
       "      <td>65.5</td>\n",
       "      <td>52.4</td>\n",
       "      <td>2823</td>\n",
       "      <td>ohcv</td>\n",
       "      <td>six</td>\n",
       "      <td>152</td>\n",
       "      <td>mpfi</td>\n",
       "      <td>2.68</td>\n",
       "      <td>3.47</td>\n",
       "      <td>9.0</td>\n",
       "      <td>154</td>\n",
       "      <td>5000</td>\n",
       "      <td>19</td>\n",
       "      <td>26</td>\n",
       "      <td>16500.0</td>\n",
       "    </tr>\n",
       "    <tr>\n",
       "      <th>3</th>\n",
       "      <td>4</td>\n",
       "      <td>2</td>\n",
       "      <td>audi 100 ls</td>\n",
       "      <td>gas</td>\n",
       "      <td>std</td>\n",
       "      <td>four</td>\n",
       "      <td>sedan</td>\n",
       "      <td>fwd</td>\n",
       "      <td>front</td>\n",
       "      <td>99.8</td>\n",
       "      <td>176.6</td>\n",
       "      <td>66.2</td>\n",
       "      <td>54.3</td>\n",
       "      <td>2337</td>\n",
       "      <td>ohc</td>\n",
       "      <td>four</td>\n",
       "      <td>109</td>\n",
       "      <td>mpfi</td>\n",
       "      <td>3.19</td>\n",
       "      <td>3.40</td>\n",
       "      <td>10.0</td>\n",
       "      <td>102</td>\n",
       "      <td>5500</td>\n",
       "      <td>24</td>\n",
       "      <td>30</td>\n",
       "      <td>13950.0</td>\n",
       "    </tr>\n",
       "    <tr>\n",
       "      <th>4</th>\n",
       "      <td>5</td>\n",
       "      <td>2</td>\n",
       "      <td>audi 100ls</td>\n",
       "      <td>gas</td>\n",
       "      <td>std</td>\n",
       "      <td>four</td>\n",
       "      <td>sedan</td>\n",
       "      <td>4wd</td>\n",
       "      <td>front</td>\n",
       "      <td>99.4</td>\n",
       "      <td>176.6</td>\n",
       "      <td>66.4</td>\n",
       "      <td>54.3</td>\n",
       "      <td>2824</td>\n",
       "      <td>ohc</td>\n",
       "      <td>five</td>\n",
       "      <td>136</td>\n",
       "      <td>mpfi</td>\n",
       "      <td>3.19</td>\n",
       "      <td>3.40</td>\n",
       "      <td>8.0</td>\n",
       "      <td>115</td>\n",
       "      <td>5500</td>\n",
       "      <td>18</td>\n",
       "      <td>22</td>\n",
       "      <td>17450.0</td>\n",
       "    </tr>\n",
       "  </tbody>\n",
       "</table>\n",
       "</div>"
      ],
      "text/plain": [
       "   car_ID  symboling                   CarName fueltype aspiration doornumber  \\\n",
       "0       1          3        alfa-romero giulia      gas        std        two   \n",
       "1       2          3       alfa-romero stelvio      gas        std        two   \n",
       "2       3          1  alfa-romero Quadrifoglio      gas        std        two   \n",
       "3       4          2               audi 100 ls      gas        std       four   \n",
       "4       5          2                audi 100ls      gas        std       four   \n",
       "\n",
       "       carbody drivewheel enginelocation  wheelbase  carlength  carwidth  \\\n",
       "0  convertible        rwd          front       88.6      168.8      64.1   \n",
       "1  convertible        rwd          front       88.6      168.8      64.1   \n",
       "2    hatchback        rwd          front       94.5      171.2      65.5   \n",
       "3        sedan        fwd          front       99.8      176.6      66.2   \n",
       "4        sedan        4wd          front       99.4      176.6      66.4   \n",
       "\n",
       "   carheight  curbweight enginetype cylindernumber  enginesize fuelsystem  \\\n",
       "0       48.8        2548       dohc           four         130       mpfi   \n",
       "1       48.8        2548       dohc           four         130       mpfi   \n",
       "2       52.4        2823       ohcv            six         152       mpfi   \n",
       "3       54.3        2337        ohc           four         109       mpfi   \n",
       "4       54.3        2824        ohc           five         136       mpfi   \n",
       "\n",
       "   boreratio  stroke  compressionratio  horsepower  peakrpm  citympg  \\\n",
       "0       3.47    2.68               9.0         111     5000       21   \n",
       "1       3.47    2.68               9.0         111     5000       21   \n",
       "2       2.68    3.47               9.0         154     5000       19   \n",
       "3       3.19    3.40              10.0         102     5500       24   \n",
       "4       3.19    3.40               8.0         115     5500       18   \n",
       "\n",
       "   highwaympg    price  \n",
       "0          27  13495.0  \n",
       "1          27  16500.0  \n",
       "2          26  16500.0  \n",
       "3          30  13950.0  \n",
       "4          22  17450.0  "
      ]
     },
     "execution_count": 27,
     "metadata": {},
     "output_type": "execute_result"
    }
   ],
   "source": [
    "df.head()"
   ]
  },
  {
   "cell_type": "code",
   "execution_count": 6,
   "id": "6cf03543",
   "metadata": {},
   "outputs": [
    {
     "name": "stdout",
     "output_type": "stream",
     "text": [
      "<class 'pandas.core.frame.DataFrame'>\n",
      "RangeIndex: 205 entries, 0 to 204\n",
      "Data columns (total 26 columns):\n",
      " #   Column            Non-Null Count  Dtype  \n",
      "---  ------            --------------  -----  \n",
      " 0   car_ID            205 non-null    int64  \n",
      " 1   symboling         205 non-null    int64  \n",
      " 2   CarName           205 non-null    object \n",
      " 3   fueltype          205 non-null    object \n",
      " 4   aspiration        205 non-null    object \n",
      " 5   doornumber        205 non-null    object \n",
      " 6   carbody           205 non-null    object \n",
      " 7   drivewheel        205 non-null    object \n",
      " 8   enginelocation    205 non-null    object \n",
      " 9   wheelbase         205 non-null    float64\n",
      " 10  carlength         205 non-null    float64\n",
      " 11  carwidth          205 non-null    float64\n",
      " 12  carheight         205 non-null    float64\n",
      " 13  curbweight        205 non-null    int64  \n",
      " 14  enginetype        205 non-null    object \n",
      " 15  cylindernumber    205 non-null    object \n",
      " 16  enginesize        205 non-null    int64  \n",
      " 17  fuelsystem        205 non-null    object \n",
      " 18  boreratio         205 non-null    float64\n",
      " 19  stroke            205 non-null    float64\n",
      " 20  compressionratio  205 non-null    float64\n",
      " 21  horsepower        205 non-null    int64  \n",
      " 22  peakrpm           205 non-null    int64  \n",
      " 23  citympg           205 non-null    int64  \n",
      " 24  highwaympg        205 non-null    int64  \n",
      " 25  price             205 non-null    float64\n",
      "dtypes: float64(8), int64(8), object(10)\n",
      "memory usage: 41.8+ KB\n"
     ]
    }
   ],
   "source": [
    "df.info()"
   ]
  },
  {
   "cell_type": "code",
   "execution_count": 7,
   "id": "25d21e01",
   "metadata": {},
   "outputs": [
    {
     "data": {
      "text/plain": [
       "(205, 26)"
      ]
     },
     "execution_count": 7,
     "metadata": {},
     "output_type": "execute_result"
    }
   ],
   "source": [
    "df.shape"
   ]
  },
  {
   "cell_type": "code",
   "execution_count": 8,
   "id": "2e4be012",
   "metadata": {},
   "outputs": [
    {
     "data": {
      "text/plain": [
       "car_ID              0\n",
       "symboling           0\n",
       "CarName             0\n",
       "fueltype            0\n",
       "aspiration          0\n",
       "doornumber          0\n",
       "carbody             0\n",
       "drivewheel          0\n",
       "enginelocation      0\n",
       "wheelbase           0\n",
       "carlength           0\n",
       "carwidth            0\n",
       "carheight           0\n",
       "curbweight          0\n",
       "enginetype          0\n",
       "cylindernumber      0\n",
       "enginesize          0\n",
       "fuelsystem          0\n",
       "boreratio           0\n",
       "stroke              0\n",
       "compressionratio    0\n",
       "horsepower          0\n",
       "peakrpm             0\n",
       "citympg             0\n",
       "highwaympg          0\n",
       "price               0\n",
       "dtype: int64"
      ]
     },
     "execution_count": 8,
     "metadata": {},
     "output_type": "execute_result"
    }
   ],
   "source": [
    "df.isnull().sum()"
   ]
  },
  {
   "cell_type": "code",
   "execution_count": 28,
   "id": "ee45ca43",
   "metadata": {},
   "outputs": [
    {
     "data": {
      "text/html": [
       "<div>\n",
       "<style scoped>\n",
       "    .dataframe tbody tr th:only-of-type {\n",
       "        vertical-align: middle;\n",
       "    }\n",
       "\n",
       "    .dataframe tbody tr th {\n",
       "        vertical-align: top;\n",
       "    }\n",
       "\n",
       "    .dataframe thead th {\n",
       "        text-align: right;\n",
       "    }\n",
       "</style>\n",
       "<table border=\"1\" class=\"dataframe\">\n",
       "  <thead>\n",
       "    <tr style=\"text-align: right;\">\n",
       "      <th></th>\n",
       "      <th>car_ID</th>\n",
       "      <th>symboling</th>\n",
       "      <th>wheelbase</th>\n",
       "      <th>carlength</th>\n",
       "      <th>carwidth</th>\n",
       "      <th>carheight</th>\n",
       "      <th>curbweight</th>\n",
       "      <th>enginesize</th>\n",
       "      <th>boreratio</th>\n",
       "      <th>stroke</th>\n",
       "      <th>compressionratio</th>\n",
       "      <th>horsepower</th>\n",
       "      <th>peakrpm</th>\n",
       "      <th>citympg</th>\n",
       "      <th>highwaympg</th>\n",
       "      <th>price</th>\n",
       "    </tr>\n",
       "  </thead>\n",
       "  <tbody>\n",
       "    <tr>\n",
       "      <th>count</th>\n",
       "      <td>205.000000</td>\n",
       "      <td>205.000000</td>\n",
       "      <td>205.000000</td>\n",
       "      <td>205.000000</td>\n",
       "      <td>205.000000</td>\n",
       "      <td>205.000000</td>\n",
       "      <td>205.000000</td>\n",
       "      <td>205.000000</td>\n",
       "      <td>205.000000</td>\n",
       "      <td>205.000000</td>\n",
       "      <td>205.000000</td>\n",
       "      <td>205.000000</td>\n",
       "      <td>205.000000</td>\n",
       "      <td>205.000000</td>\n",
       "      <td>205.000000</td>\n",
       "      <td>205.000000</td>\n",
       "    </tr>\n",
       "    <tr>\n",
       "      <th>mean</th>\n",
       "      <td>103.000000</td>\n",
       "      <td>0.834146</td>\n",
       "      <td>98.756585</td>\n",
       "      <td>174.049268</td>\n",
       "      <td>65.907805</td>\n",
       "      <td>53.724878</td>\n",
       "      <td>2555.565854</td>\n",
       "      <td>126.907317</td>\n",
       "      <td>3.329756</td>\n",
       "      <td>3.255415</td>\n",
       "      <td>10.142537</td>\n",
       "      <td>104.117073</td>\n",
       "      <td>5125.121951</td>\n",
       "      <td>25.219512</td>\n",
       "      <td>30.751220</td>\n",
       "      <td>13276.710571</td>\n",
       "    </tr>\n",
       "    <tr>\n",
       "      <th>std</th>\n",
       "      <td>59.322565</td>\n",
       "      <td>1.245307</td>\n",
       "      <td>6.021776</td>\n",
       "      <td>12.337289</td>\n",
       "      <td>2.145204</td>\n",
       "      <td>2.443522</td>\n",
       "      <td>520.680204</td>\n",
       "      <td>41.642693</td>\n",
       "      <td>0.270844</td>\n",
       "      <td>0.313597</td>\n",
       "      <td>3.972040</td>\n",
       "      <td>39.544167</td>\n",
       "      <td>476.985643</td>\n",
       "      <td>6.542142</td>\n",
       "      <td>6.886443</td>\n",
       "      <td>7988.852332</td>\n",
       "    </tr>\n",
       "    <tr>\n",
       "      <th>min</th>\n",
       "      <td>1.000000</td>\n",
       "      <td>-2.000000</td>\n",
       "      <td>86.600000</td>\n",
       "      <td>141.100000</td>\n",
       "      <td>60.300000</td>\n",
       "      <td>47.800000</td>\n",
       "      <td>1488.000000</td>\n",
       "      <td>61.000000</td>\n",
       "      <td>2.540000</td>\n",
       "      <td>2.070000</td>\n",
       "      <td>7.000000</td>\n",
       "      <td>48.000000</td>\n",
       "      <td>4150.000000</td>\n",
       "      <td>13.000000</td>\n",
       "      <td>16.000000</td>\n",
       "      <td>5118.000000</td>\n",
       "    </tr>\n",
       "    <tr>\n",
       "      <th>25%</th>\n",
       "      <td>52.000000</td>\n",
       "      <td>0.000000</td>\n",
       "      <td>94.500000</td>\n",
       "      <td>166.300000</td>\n",
       "      <td>64.100000</td>\n",
       "      <td>52.000000</td>\n",
       "      <td>2145.000000</td>\n",
       "      <td>97.000000</td>\n",
       "      <td>3.150000</td>\n",
       "      <td>3.110000</td>\n",
       "      <td>8.600000</td>\n",
       "      <td>70.000000</td>\n",
       "      <td>4800.000000</td>\n",
       "      <td>19.000000</td>\n",
       "      <td>25.000000</td>\n",
       "      <td>7788.000000</td>\n",
       "    </tr>\n",
       "    <tr>\n",
       "      <th>50%</th>\n",
       "      <td>103.000000</td>\n",
       "      <td>1.000000</td>\n",
       "      <td>97.000000</td>\n",
       "      <td>173.200000</td>\n",
       "      <td>65.500000</td>\n",
       "      <td>54.100000</td>\n",
       "      <td>2414.000000</td>\n",
       "      <td>120.000000</td>\n",
       "      <td>3.310000</td>\n",
       "      <td>3.290000</td>\n",
       "      <td>9.000000</td>\n",
       "      <td>95.000000</td>\n",
       "      <td>5200.000000</td>\n",
       "      <td>24.000000</td>\n",
       "      <td>30.000000</td>\n",
       "      <td>10295.000000</td>\n",
       "    </tr>\n",
       "    <tr>\n",
       "      <th>75%</th>\n",
       "      <td>154.000000</td>\n",
       "      <td>2.000000</td>\n",
       "      <td>102.400000</td>\n",
       "      <td>183.100000</td>\n",
       "      <td>66.900000</td>\n",
       "      <td>55.500000</td>\n",
       "      <td>2935.000000</td>\n",
       "      <td>141.000000</td>\n",
       "      <td>3.580000</td>\n",
       "      <td>3.410000</td>\n",
       "      <td>9.400000</td>\n",
       "      <td>116.000000</td>\n",
       "      <td>5500.000000</td>\n",
       "      <td>30.000000</td>\n",
       "      <td>34.000000</td>\n",
       "      <td>16503.000000</td>\n",
       "    </tr>\n",
       "    <tr>\n",
       "      <th>max</th>\n",
       "      <td>205.000000</td>\n",
       "      <td>3.000000</td>\n",
       "      <td>120.900000</td>\n",
       "      <td>208.100000</td>\n",
       "      <td>72.300000</td>\n",
       "      <td>59.800000</td>\n",
       "      <td>4066.000000</td>\n",
       "      <td>326.000000</td>\n",
       "      <td>3.940000</td>\n",
       "      <td>4.170000</td>\n",
       "      <td>23.000000</td>\n",
       "      <td>288.000000</td>\n",
       "      <td>6600.000000</td>\n",
       "      <td>49.000000</td>\n",
       "      <td>54.000000</td>\n",
       "      <td>45400.000000</td>\n",
       "    </tr>\n",
       "  </tbody>\n",
       "</table>\n",
       "</div>"
      ],
      "text/plain": [
       "           car_ID   symboling   wheelbase   carlength    carwidth   carheight  \\\n",
       "count  205.000000  205.000000  205.000000  205.000000  205.000000  205.000000   \n",
       "mean   103.000000    0.834146   98.756585  174.049268   65.907805   53.724878   \n",
       "std     59.322565    1.245307    6.021776   12.337289    2.145204    2.443522   \n",
       "min      1.000000   -2.000000   86.600000  141.100000   60.300000   47.800000   \n",
       "25%     52.000000    0.000000   94.500000  166.300000   64.100000   52.000000   \n",
       "50%    103.000000    1.000000   97.000000  173.200000   65.500000   54.100000   \n",
       "75%    154.000000    2.000000  102.400000  183.100000   66.900000   55.500000   \n",
       "max    205.000000    3.000000  120.900000  208.100000   72.300000   59.800000   \n",
       "\n",
       "        curbweight  enginesize   boreratio      stroke  compressionratio  \\\n",
       "count   205.000000  205.000000  205.000000  205.000000        205.000000   \n",
       "mean   2555.565854  126.907317    3.329756    3.255415         10.142537   \n",
       "std     520.680204   41.642693    0.270844    0.313597          3.972040   \n",
       "min    1488.000000   61.000000    2.540000    2.070000          7.000000   \n",
       "25%    2145.000000   97.000000    3.150000    3.110000          8.600000   \n",
       "50%    2414.000000  120.000000    3.310000    3.290000          9.000000   \n",
       "75%    2935.000000  141.000000    3.580000    3.410000          9.400000   \n",
       "max    4066.000000  326.000000    3.940000    4.170000         23.000000   \n",
       "\n",
       "       horsepower      peakrpm     citympg  highwaympg         price  \n",
       "count  205.000000   205.000000  205.000000  205.000000    205.000000  \n",
       "mean   104.117073  5125.121951   25.219512   30.751220  13276.710571  \n",
       "std     39.544167   476.985643    6.542142    6.886443   7988.852332  \n",
       "min     48.000000  4150.000000   13.000000   16.000000   5118.000000  \n",
       "25%     70.000000  4800.000000   19.000000   25.000000   7788.000000  \n",
       "50%     95.000000  5200.000000   24.000000   30.000000  10295.000000  \n",
       "75%    116.000000  5500.000000   30.000000   34.000000  16503.000000  \n",
       "max    288.000000  6600.000000   49.000000   54.000000  45400.000000  "
      ]
     },
     "execution_count": 28,
     "metadata": {},
     "output_type": "execute_result"
    }
   ],
   "source": [
    "df.describe()"
   ]
  },
  {
   "cell_type": "markdown",
   "id": "c573a268",
   "metadata": {},
   "source": [
    "## Data cleansing"
   ]
  },
  {
   "cell_type": "code",
   "execution_count": 41,
   "id": "4f876f5c",
   "metadata": {},
   "outputs": [
    {
     "data": {
      "text/plain": [
       "array(['alfa-romero giulia', 'alfa-romero stelvio',\n",
       "       'alfa-romero Quadrifoglio', 'audi 100 ls', 'audi 100ls',\n",
       "       'audi fox', 'audi 5000', 'audi 4000', 'audi 5000s (diesel)',\n",
       "       'bmw 320i', 'bmw x1', 'bmw x3', 'bmw z4', 'bmw x4', 'bmw x5',\n",
       "       'chevrolet impala', 'chevrolet monte carlo', 'chevrolet vega 2300',\n",
       "       'dodge rampage', 'dodge challenger se', 'dodge d200',\n",
       "       'dodge monaco (sw)', 'dodge colt hardtop', 'dodge colt (sw)',\n",
       "       'dodge coronet custom', 'dodge dart custom',\n",
       "       'dodge coronet custom (sw)', 'honda civic', 'honda civic cvcc',\n",
       "       'honda accord cvcc', 'honda accord lx', 'honda civic 1500 gl',\n",
       "       'honda accord', 'honda civic 1300', 'honda prelude',\n",
       "       'honda civic (auto)', 'isuzu MU-X', 'isuzu D-Max ',\n",
       "       'isuzu D-Max V-Cross', 'jaguar xj', 'jaguar xf', 'jaguar xk',\n",
       "       'maxda rx3', 'maxda glc deluxe', 'mazda rx2 coupe', 'mazda rx-4',\n",
       "       'mazda glc deluxe', 'mazda 626', 'mazda glc', 'mazda rx-7 gs',\n",
       "       'mazda glc 4', 'mazda glc custom l', 'mazda glc custom',\n",
       "       'buick electra 225 custom', 'buick century luxus (sw)',\n",
       "       'buick century', 'buick skyhawk', 'buick opel isuzu deluxe',\n",
       "       'buick skylark', 'buick century special',\n",
       "       'buick regal sport coupe (turbo)', 'mercury cougar',\n",
       "       'mitsubishi mirage', 'mitsubishi lancer', 'mitsubishi outlander',\n",
       "       'mitsubishi g4', 'mitsubishi mirage g4', 'mitsubishi montero',\n",
       "       'mitsubishi pajero', 'Nissan versa', 'nissan gt-r', 'nissan rogue',\n",
       "       'nissan latio', 'nissan titan', 'nissan leaf', 'nissan juke',\n",
       "       'nissan note', 'nissan clipper', 'nissan nv200', 'nissan dayz',\n",
       "       'nissan fuga', 'nissan otti', 'nissan teana', 'nissan kicks',\n",
       "       'peugeot 504', 'peugeot 304', 'peugeot 504 (sw)', 'peugeot 604sl',\n",
       "       'peugeot 505s turbo diesel', 'plymouth fury iii',\n",
       "       'plymouth cricket', 'plymouth satellite custom (sw)',\n",
       "       'plymouth fury gran sedan', 'plymouth valiant', 'plymouth duster',\n",
       "       'porsche macan', 'porcshce panamera', 'porsche cayenne',\n",
       "       'porsche boxter', 'renault 12tl', 'renault 5 gtl', 'saab 99e',\n",
       "       'saab 99le', 'saab 99gle', 'subaru', 'subaru dl', 'subaru brz',\n",
       "       'subaru baja', 'subaru r1', 'subaru r2', 'subaru trezia',\n",
       "       'subaru tribeca', 'toyota corona mark ii', 'toyota corona',\n",
       "       'toyota corolla 1200', 'toyota corona hardtop',\n",
       "       'toyota corolla 1600 (sw)', 'toyota carina', 'toyota mark ii',\n",
       "       'toyota corolla', 'toyota corolla liftback',\n",
       "       'toyota celica gt liftback', 'toyota corolla tercel',\n",
       "       'toyota corona liftback', 'toyota starlet', 'toyota tercel',\n",
       "       'toyota cressida', 'toyota celica gt', 'toyouta tercel',\n",
       "       'vokswagen rabbit', 'volkswagen 1131 deluxe sedan',\n",
       "       'volkswagen model 111', 'volkswagen type 3', 'volkswagen 411 (sw)',\n",
       "       'volkswagen super beetle', 'volkswagen dasher', 'vw dasher',\n",
       "       'vw rabbit', 'volkswagen rabbit', 'volkswagen rabbit custom',\n",
       "       'volvo 145e (sw)', 'volvo 144ea', 'volvo 244dl', 'volvo 245',\n",
       "       'volvo 264gl', 'volvo diesel', 'volvo 246'], dtype=object)"
      ]
     },
     "execution_count": 41,
     "metadata": {},
     "output_type": "execute_result"
    }
   ],
   "source": [
    "df['CarName'].unique()"
   ]
  },
  {
   "cell_type": "code",
   "execution_count": 39,
   "id": "ed0e1774",
   "metadata": {},
   "outputs": [],
   "source": [
    "df=df.drop_duplicates()"
   ]
  },
  {
   "cell_type": "code",
   "execution_count": 40,
   "id": "20e4730c",
   "metadata": {},
   "outputs": [
    {
     "data": {
      "text/plain": [
       "(205, 26)"
      ]
     },
     "execution_count": 40,
     "metadata": {},
     "output_type": "execute_result"
    }
   ],
   "source": [
    "df.shape"
   ]
  },
  {
   "cell_type": "markdown",
   "id": "13da477d",
   "metadata": {},
   "source": [
    "## Exploratory Data Analysis"
   ]
  },
  {
   "cell_type": "markdown",
   "id": "0f94de16",
   "metadata": {},
   "source": [
    "### Univariate"
   ]
  },
  {
   "cell_type": "code",
   "execution_count": 44,
   "id": "052c8ac5",
   "metadata": {},
   "outputs": [
    {
     "data": {
      "image/png": "[encoded data removed]",
      "text/plain": [
       "<Figure size 1080x720 with 1 Axes>"
      ]
     },
     "metadata": {
      "needs_background": "light"
     },
     "output_type": "display_data"
    }
   ],
   "source": [
    "sb.kdeplot(df['price'])\n",
    "mt.show()"
   ]
  },
  {
   "cell_type": "markdown",
   "id": "067143c4",
   "metadata": {},
   "source": [
    "The target is positive or right skewed."
   ]
  },
  {
   "cell_type": "code",
   "execution_count": 45,
   "id": "a1559bed",
   "metadata": {},
   "outputs": [
    {
     "data": {
      "image/png": "[encoded data removed]",
      "text/plain": [
       "<Figure size 1080x720 with 1 Axes>"
      ]
     },
     "metadata": {
      "needs_background": "light"
     },
     "output_type": "display_data"
    }
   ],
   "source": [
    "sb.boxplot(df['price'])\n",
    "mt.show()"
   ]
  },
  {
   "cell_type": "markdown",
   "id": "bb7d1bfd",
   "metadata": {},
   "source": [
    "There are outliers present in the target 'price'."
   ]
  },
  {
   "cell_type": "markdown",
   "id": "cbf7fd54",
   "metadata": {},
   "source": [
    "## Scaling"
   ]
  },
  {
   "cell_type": "code",
   "execution_count": 46,
   "id": "98621873",
   "metadata": {},
   "outputs": [],
   "source": [
    "from sklearn.preprocessing import StandardScaler"
   ]
  },
  {
   "cell_type": "code",
   "execution_count": 47,
   "id": "1568a4da",
   "metadata": {},
   "outputs": [],
   "source": [
    "ss=StandardScaler()"
   ]
  },
  {
   "cell_type": "code",
   "execution_count": 52,
   "id": "24a70b2d",
   "metadata": {},
   "outputs": [],
   "source": [
    "df['price']=ss.fit_transform(df[['price']])"
   ]
  },
  {
   "cell_type": "code",
   "execution_count": 54,
   "id": "5c858a84",
   "metadata": {},
   "outputs": [
    {
     "data": {
      "text/plain": [
       "1.5813908448319302e-16"
      ]
     },
     "execution_count": 54,
     "metadata": {},
     "output_type": "execute_result"
    }
   ],
   "source": [
    "df['price'].mean()"
   ]
  },
  {
   "cell_type": "code",
   "execution_count": 55,
   "id": "264abd81",
   "metadata": {},
   "outputs": [
    {
     "data": {
      "text/plain": [
       "1.0024479840791312"
      ]
     },
     "execution_count": 55,
     "metadata": {},
     "output_type": "execute_result"
    }
   ],
   "source": [
    "df['price'].std()"
   ]
  },
  {
   "cell_type": "markdown",
   "id": "708cd711",
   "metadata": {},
   "source": [
    "## Correlation"
   ]
  },
  {
   "cell_type": "code",
   "execution_count": 60,
   "id": "d81f1a89",
   "metadata": {},
   "outputs": [],
   "source": [
    "ncols=df.select_dtypes('number').drop(columns=['car_ID','symboling'])"
   ]
  },
  {
   "cell_type": "code",
   "execution_count": 62,
   "id": "cf6ea799",
   "metadata": {},
   "outputs": [
    {
     "data": {
      "image/png": "[encoded data removed]",
      "text/plain": [
       "<Figure size 1080x720 with 2 Axes>"
      ]
     },
     "metadata": {
      "needs_background": "light"
     },
     "output_type": "display_data"
    }
   ],
   "source": [
    "sb.heatmap(ncols.corr(),annot=True,fmt='.2f')\n",
    "mt.show()"
   ]
  },
  {
   "cell_type": "markdown",
   "id": "c14a1077",
   "metadata": {},
   "source": [
    "The variables:\n",
    "\n",
    "   * Horsepower\n",
    "   * Engine size\n",
    "   * Curb weight\n",
    "   * Car width\n",
    "   * Car length\n",
    "  are highly correlated with price"
   ]
  },
  {
   "cell_type": "code",
   "execution_count": 69,
   "id": "5e85f75d",
   "metadata": {},
   "outputs": [],
   "source": [
    "ncols1=ncols.drop(columns='price')"
   ]
  },
  {
   "cell_type": "code",
   "execution_count": 67,
   "id": "0c73d577",
   "metadata": {},
   "outputs": [],
   "source": [
    "from statsmodels.stats.outliers_influence import variance_inflation_factor"
   ]
  },
  {
   "cell_type": "code",
   "execution_count": 74,
   "id": "a34a8f61",
   "metadata": {},
   "outputs": [],
   "source": [
    "vif=[]\n",
    "for i in range(ncols1.shape[1]):\n",
    "    vif.append(variance_inflation_factor(ncols1,i))"
   ]
  },
  {
   "cell_type": "code",
   "execution_count": 77,
   "id": "417e6f90",
   "metadata": {},
   "outputs": [
    {
     "data": {
      "text/html": [
       "<div>\n",
       "<style scoped>\n",
       "    .dataframe tbody tr th:only-of-type {\n",
       "        vertical-align: middle;\n",
       "    }\n",
       "\n",
       "    .dataframe tbody tr th {\n",
       "        vertical-align: top;\n",
       "    }\n",
       "\n",
       "    .dataframe thead th {\n",
       "        text-align: right;\n",
       "    }\n",
       "</style>\n",
       "<table border=\"1\" class=\"dataframe\">\n",
       "  <thead>\n",
       "    <tr style=\"text-align: right;\">\n",
       "      <th></th>\n",
       "      <th>Variable</th>\n",
       "      <th>VIF</th>\n",
       "    </tr>\n",
       "  </thead>\n",
       "  <tbody>\n",
       "    <tr>\n",
       "      <th>0</th>\n",
       "      <td>wheelbase</td>\n",
       "      <td>1903.661515</td>\n",
       "    </tr>\n",
       "    <tr>\n",
       "      <th>1</th>\n",
       "      <td>carlength</td>\n",
       "      <td>1893.737555</td>\n",
       "    </tr>\n",
       "    <tr>\n",
       "      <th>2</th>\n",
       "      <td>carwidth</td>\n",
       "      <td>2350.896000</td>\n",
       "    </tr>\n",
       "    <tr>\n",
       "      <th>3</th>\n",
       "      <td>carheight</td>\n",
       "      <td>917.204632</td>\n",
       "    </tr>\n",
       "    <tr>\n",
       "      <th>4</th>\n",
       "      <td>curbweight</td>\n",
       "      <td>403.021184</td>\n",
       "    </tr>\n",
       "    <tr>\n",
       "      <th>5</th>\n",
       "      <td>enginesize</td>\n",
       "      <td>68.765509</td>\n",
       "    </tr>\n",
       "    <tr>\n",
       "      <th>6</th>\n",
       "      <td>boreratio</td>\n",
       "      <td>290.276837</td>\n",
       "    </tr>\n",
       "    <tr>\n",
       "      <th>7</th>\n",
       "      <td>stroke</td>\n",
       "      <td>125.834481</td>\n",
       "    </tr>\n",
       "    <tr>\n",
       "      <th>8</th>\n",
       "      <td>compressionratio</td>\n",
       "      <td>15.752468</td>\n",
       "    </tr>\n",
       "    <tr>\n",
       "      <th>9</th>\n",
       "      <td>horsepower</td>\n",
       "      <td>65.532593</td>\n",
       "    </tr>\n",
       "    <tr>\n",
       "      <th>10</th>\n",
       "      <td>peakrpm</td>\n",
       "      <td>217.657090</td>\n",
       "    </tr>\n",
       "    <tr>\n",
       "      <th>11</th>\n",
       "      <td>citympg</td>\n",
       "      <td>429.212191</td>\n",
       "    </tr>\n",
       "    <tr>\n",
       "      <th>12</th>\n",
       "      <td>highwaympg</td>\n",
       "      <td>508.197031</td>\n",
       "    </tr>\n",
       "  </tbody>\n",
       "</table>\n",
       "</div>"
      ],
      "text/plain": [
       "            Variable          VIF\n",
       "0          wheelbase  1903.661515\n",
       "1          carlength  1893.737555\n",
       "2           carwidth  2350.896000\n",
       "3          carheight   917.204632\n",
       "4         curbweight   403.021184\n",
       "5         enginesize    68.765509\n",
       "6          boreratio   290.276837\n",
       "7             stroke   125.834481\n",
       "8   compressionratio    15.752468\n",
       "9         horsepower    65.532593\n",
       "10           peakrpm   217.657090\n",
       "11           citympg   429.212191\n",
       "12        highwaympg   508.197031"
      ]
     },
     "execution_count": 77,
     "metadata": {},
     "output_type": "execute_result"
    }
   ],
   "source": [
    "pd.DataFrame({'Variable':ncols1.columns,'VIF':vif})"
   ]
  },
  {
   "cell_type": "markdown",
   "id": "b77c52b0",
   "metadata": {},
   "source": [
    "There is multi collinearity present in every numeric variable."
   ]
  },
  {
   "cell_type": "markdown",
   "id": "7e07cccc",
   "metadata": {},
   "source": [
    "## Univariate"
   ]
  },
  {
   "cell_type": "code",
   "execution_count": 81,
   "id": "90774a00",
   "metadata": {},
   "outputs": [
    {
     "data": {
      "text/plain": [
       "13"
      ]
     },
     "execution_count": 81,
     "metadata": {},
     "output_type": "execute_result"
    }
   ],
   "source": [
    "ncols1.shape[1]"
   ]
  },
  {
   "cell_type": "code",
   "execution_count": 83,
   "id": "7153dcc1",
   "metadata": {},
   "outputs": [
    {
     "data": {
      "image/png": "[encoded data removed]",
      "text/plain": [
       "<Figure size 1080x720 with 13 Axes>"
      ]
     },
     "metadata": {
      "needs_background": "light"
     },
     "output_type": "display_data"
    }
   ],
   "source": [
    "r=6\n",
    "c=3\n",
    "itr=1\n",
    "for i in ncols1.columns:\n",
    "    mt.subplot(r,c,itr)\n",
    "    sb.kdeplot(data=df,x=i)\n",
    "    itr+=1\n",
    "mt.tight_layout()\n",
    "mt.show()"
   ]
  },
  {
   "cell_type": "code",
   "execution_count": 85,
   "id": "a87852e6",
   "metadata": {},
   "outputs": [
    {
     "data": {
      "text/plain": [
       "wheelbase           1.050214\n",
       "carwidth            0.904003\n",
       "curbweight          0.681398\n",
       "enginesize          1.947655\n",
       "stroke             -0.689705\n",
       "compressionratio    2.610862\n",
       "horsepower          1.405310\n",
       "citympg             0.663704\n",
       "highwaympg          0.539997\n",
       "dtype: float64"
      ]
     },
     "execution_count": 85,
     "metadata": {},
     "output_type": "execute_result"
    }
   ],
   "source": [
    "ncols1.skew()[(ncols1.skew()>0.5)|(ncols1.skew()<-0.5)]"
   ]
  },
  {
   "cell_type": "markdown",
   "id": "ad8c2bfb",
   "metadata": {},
   "source": [
    "The above variables are highly skewed both positively and negatively."
   ]
  },
  {
   "cell_type": "code",
   "execution_count": 86,
   "id": "1020e612",
   "metadata": {},
   "outputs": [
    {
     "data": {
      "image/png": "[encoded data removed]",
      "text/plain": [
       "<Figure size 1080x720 with 13 Axes>"
      ]
     },
     "metadata": {
      "needs_background": "light"
     },
     "output_type": "display_data"
    }
   ],
   "source": [
    "r=6\n",
    "c=3\n",
    "itr=1\n",
    "for i in ncols1.columns:\n",
    "    mt.subplot(r,c,itr)\n",
    "    sb.boxplot(data=df,x=i)\n",
    "    itr+=1\n",
    "mt.tight_layout()\n",
    "mt.show()"
   ]
  },
  {
   "cell_type": "markdown",
   "id": "a2e5d6cc",
   "metadata": {},
   "source": [
    "Outliers are present in most of the numeric variables."
   ]
  },
  {
   "cell_type": "code",
   "execution_count": 91,
   "id": "2dd0eda0",
   "metadata": {},
   "outputs": [],
   "source": [
    "ccols=df.select_dtypes('object').drop(columns='CarName')"
   ]
  },
  {
   "cell_type": "code",
   "execution_count": 92,
   "id": "2900add7",
   "metadata": {},
   "outputs": [
    {
     "data": {
      "text/plain": [
       "9"
      ]
     },
     "execution_count": 92,
     "metadata": {},
     "output_type": "execute_result"
    }
   ],
   "source": [
    "ccols.shape[1]"
   ]
  },
  {
   "cell_type": "code",
   "execution_count": 93,
   "id": "20ffd138",
   "metadata": {},
   "outputs": [
    {
     "data": {
      "image/png": "[encoded data removed]",
      "text/plain": [
       "<Figure size 1080x720 with 9 Axes>"
      ]
     },
     "metadata": {
      "needs_background": "light"
     },
     "output_type": "display_data"
    }
   ],
   "source": [
    "n=3\n",
    "r=3\n",
    "itr=1\n",
    "for i in ccols.columns:\n",
    "    mt.subplot(r,c,itr)\n",
    "    sb.countplot(data=df,x=i)\n",
    "    itr+=1\n",
    "mt.tight_layout()\n",
    "mt.show()    "
   ]
  },
  {
   "cell_type": "markdown",
   "id": "0d341f02",
   "metadata": {},
   "source": [
    "* Gas type vehicles are present at the highest.\n",
    "* Four doors are highly sold.\n",
    "* Sedan type body is preferred the most.\n",
    "* Forward drive wheel is the highest.\n",
    "* Front engines are highly used.\n",
    "* OHC engines are the highest.\n",
    "* The highest number of cylinders are 4.\n",
    "* MPFI fuel system is the used the most."
   ]
  },
  {
   "cell_type": "markdown",
   "id": "45c4eaa9",
   "metadata": {},
   "source": [
    "## Bivariate Analysis"
   ]
  },
  {
   "cell_type": "code",
   "execution_count": 95,
   "id": "ebd51012",
   "metadata": {},
   "outputs": [
    {
     "data": {
      "image/png": "[encoded data removed]",
      "text/plain": [
       "<Figure size 1080x720 with 9 Axes>"
      ]
     },
     "metadata": {
      "needs_background": "light"
     },
     "output_type": "display_data"
    }
   ],
   "source": [
    "n=3\n",
    "r=3\n",
    "itr=1\n",
    "for i in ccols.columns:\n",
    "    mt.subplot(r,c,itr)\n",
    "    sb.boxplot(data=df,x=i,y='price')\n",
    "    itr+=1\n",
    "mt.tight_layout()\n",
    "mt.show()    "
   ]
  },
  {
   "cell_type": "markdown",
   "id": "67197923",
   "metadata": {},
   "source": [
    "* Price of diesel engine with turbo aspiration and four doors have the highest price.\n",
    "* The hardtop body with rear wheel drive and rear engine have the highest price.\n",
    "* OHVC engine type is the highest having eight cylinders and fuel system IDI."
   ]
  },
  {
   "cell_type": "markdown",
   "id": "ee95ff24",
   "metadata": {},
   "source": [
    "## Feature Engineering"
   ]
  },
  {
   "cell_type": "markdown",
   "id": "94102224",
   "metadata": {},
   "source": [
    "For predicting price, we remove ID and car name variables as it is redundant for the model to predict."
   ]
  },
  {
   "cell_type": "code",
   "execution_count": 98,
   "id": "f5533497",
   "metadata": {},
   "outputs": [],
   "source": [
    "df1=df.drop(columns=['car_ID','CarName'])"
   ]
  },
  {
   "cell_type": "code",
   "execution_count": 107,
   "id": "06382530",
   "metadata": {},
   "outputs": [
    {
     "data": {
      "text/plain": [
       "Index(['fueltype', 'aspiration', 'doornumber', 'carbody', 'drivewheel',\n",
       "       'enginelocation', 'enginetype', 'cylindernumber', 'fuelsystem'],\n",
       "      dtype='object')"
      ]
     },
     "execution_count": 107,
     "metadata": {},
     "output_type": "execute_result"
    }
   ],
   "source": [
    "df1.select_dtypes('object').columns"
   ]
  },
  {
   "cell_type": "code",
   "execution_count": 104,
   "id": "2a7d59b6",
   "metadata": {},
   "outputs": [
    {
     "data": {
      "text/plain": [
       "gas       185\n",
       "diesel     20\n",
       "Name: fueltype, dtype: int64"
      ]
     },
     "execution_count": 104,
     "metadata": {},
     "output_type": "execute_result"
    }
   ],
   "source": [
    "df1['fueltype'].value_counts()"
   ]
  },
  {
   "cell_type": "code",
   "execution_count": 118,
   "id": "9f4c7445",
   "metadata": {},
   "outputs": [],
   "source": [
    "d1={'gas':0,'diesel':1}"
   ]
  },
  {
   "cell_type": "code",
   "execution_count": 135,
   "id": "de249ed9",
   "metadata": {},
   "outputs": [],
   "source": [
    "df1['fueltype']=df1['fueltype'].map(d1)"
   ]
  },
  {
   "cell_type": "code",
   "execution_count": 117,
   "id": "06af0c0d",
   "metadata": {},
   "outputs": [
    {
     "data": {
      "text/plain": [
       "four    115\n",
       "two      90\n",
       "Name: doornumber, dtype: int64"
      ]
     },
     "execution_count": 117,
     "metadata": {},
     "output_type": "execute_result"
    }
   ],
   "source": [
    "df1['doornumber'].value_counts()"
   ]
  },
  {
   "cell_type": "code",
   "execution_count": 119,
   "id": "423e40bd",
   "metadata": {},
   "outputs": [],
   "source": [
    "d2={'four':1,'two':0}"
   ]
  },
  {
   "cell_type": "code",
   "execution_count": 136,
   "id": "9c315794",
   "metadata": {},
   "outputs": [],
   "source": [
    "df1['doornumber']=df1['doornumber'].map(d2)"
   ]
  },
  {
   "cell_type": "code",
   "execution_count": 109,
   "id": "8d6bdf67",
   "metadata": {},
   "outputs": [
    {
     "data": {
      "text/plain": [
       "sedan          96\n",
       "hatchback      70\n",
       "wagon          25\n",
       "hardtop         8\n",
       "convertible     6\n",
       "Name: carbody, dtype: int64"
      ]
     },
     "execution_count": 109,
     "metadata": {},
     "output_type": "execute_result"
    }
   ],
   "source": [
    "df1['carbody'].value_counts()"
   ]
  },
  {
   "cell_type": "code",
   "execution_count": 121,
   "id": "67a96ac4",
   "metadata": {},
   "outputs": [
    {
     "data": {
      "text/plain": [
       "carbody\n",
       "convertible    0.477805\n",
       "hardtop        0.804431\n",
       "hatchback     -0.549570\n",
       "sedan         -0.304945\n",
       "wagon         -0.198600\n",
       "Name: price, dtype: float64"
      ]
     },
     "execution_count": 121,
     "metadata": {},
     "output_type": "execute_result"
    }
   ],
   "source": [
    "df1.groupby(['carbody'])['price'].median()"
   ]
  },
  {
   "cell_type": "code",
   "execution_count": 123,
   "id": "4e2f7fc8",
   "metadata": {},
   "outputs": [],
   "source": [
    "d3={'convertible':0.477805,'hardtop':0.804431,'hatchback':-0.549570,'sedan':-0.304945,'wagon':-0.198600}"
   ]
  },
  {
   "cell_type": "code",
   "execution_count": 137,
   "id": "829c0de1",
   "metadata": {},
   "outputs": [],
   "source": [
    "df1['carbody']=df1['carbody'].map(d3)"
   ]
  },
  {
   "cell_type": "code",
   "execution_count": 110,
   "id": "9c52792b",
   "metadata": {},
   "outputs": [
    {
     "data": {
      "text/plain": [
       "fwd    120\n",
       "rwd     76\n",
       "4wd      9\n",
       "Name: drivewheel, dtype: int64"
      ]
     },
     "execution_count": 110,
     "metadata": {},
     "output_type": "execute_result"
    }
   ],
   "source": [
    "df1['drivewheel'].value_counts()"
   ]
  },
  {
   "cell_type": "code",
   "execution_count": 124,
   "id": "beb44647",
   "metadata": {},
   "outputs": [],
   "source": [
    "d4={'fwd':1,'rwd':2,'4wd':0}"
   ]
  },
  {
   "cell_type": "code",
   "execution_count": 138,
   "id": "f59f2fe8",
   "metadata": {},
   "outputs": [],
   "source": [
    "df1['drivewheel']=df1['drivewheel'].map(d4)"
   ]
  },
  {
   "cell_type": "code",
   "execution_count": 111,
   "id": "5c48d788",
   "metadata": {},
   "outputs": [
    {
     "data": {
      "text/plain": [
       "front    202\n",
       "rear       3\n",
       "Name: enginelocation, dtype: int64"
      ]
     },
     "execution_count": 111,
     "metadata": {},
     "output_type": "execute_result"
    }
   ],
   "source": [
    "df1['enginelocation'].value_counts()"
   ]
  },
  {
   "cell_type": "code",
   "execution_count": 125,
   "id": "9849beea",
   "metadata": {},
   "outputs": [],
   "source": [
    "d5={'front':1,'rear':0}"
   ]
  },
  {
   "cell_type": "code",
   "execution_count": 139,
   "id": "e7ffb69f",
   "metadata": {},
   "outputs": [],
   "source": [
    "df1['enginelocation']=df1['enginelocation'].map(d5)"
   ]
  },
  {
   "cell_type": "code",
   "execution_count": 112,
   "id": "39c69147",
   "metadata": {},
   "outputs": [
    {
     "data": {
      "text/plain": [
       "ohc      148\n",
       "ohcf      15\n",
       "ohcv      13\n",
       "dohc      12\n",
       "l         12\n",
       "rotor      4\n",
       "dohcv      1\n",
       "Name: enginetype, dtype: int64"
      ]
     },
     "execution_count": 112,
     "metadata": {},
     "output_type": "execute_result"
    }
   ],
   "source": [
    "df1['enginetype'].value_counts()"
   ]
  },
  {
   "cell_type": "code",
   "execution_count": 141,
   "id": "5b788d1c",
   "metadata": {},
   "outputs": [],
   "source": [
    "d6=df1.groupby(['enginetype'])['price'].median().to_dict()"
   ]
  },
  {
   "cell_type": "code",
   "execution_count": 142,
   "id": "a2534bd1",
   "metadata": {},
   "outputs": [],
   "source": [
    "df1['enginetype']=df1['enginetype'].map(d6)"
   ]
  },
  {
   "cell_type": "code",
   "execution_count": 113,
   "id": "e2d50b58",
   "metadata": {},
   "outputs": [
    {
     "data": {
      "text/plain": [
       "four      159\n",
       "six        24\n",
       "five       11\n",
       "eight       5\n",
       "two         4\n",
       "three       1\n",
       "twelve      1\n",
       "Name: cylindernumber, dtype: int64"
      ]
     },
     "execution_count": 113,
     "metadata": {},
     "output_type": "execute_result"
    }
   ],
   "source": [
    "df1['cylindernumber'].value_counts()"
   ]
  },
  {
   "cell_type": "code",
   "execution_count": 132,
   "id": "e44d359b",
   "metadata": {},
   "outputs": [],
   "source": [
    "d7=df1.groupby(['cylindernumber'])['price'].median().to_dict()"
   ]
  },
  {
   "cell_type": "code",
   "execution_count": 143,
   "id": "19379b46",
   "metadata": {},
   "outputs": [],
   "source": [
    "df1['cylindernumber']=df1['cylindernumber'].map(d7)"
   ]
  },
  {
   "cell_type": "code",
   "execution_count": 114,
   "id": "1fccac9d",
   "metadata": {},
   "outputs": [
    {
     "data": {
      "text/plain": [
       "mpfi    94\n",
       "2bbl    66\n",
       "idi     20\n",
       "1bbl    11\n",
       "spdi     9\n",
       "4bbl     3\n",
       "mfi      1\n",
       "spfi     1\n",
       "Name: fuelsystem, dtype: int64"
      ]
     },
     "execution_count": 114,
     "metadata": {},
     "output_type": "execute_result"
    }
   ],
   "source": [
    "df1['fuelsystem'].value_counts()"
   ]
  },
  {
   "cell_type": "code",
   "execution_count": 133,
   "id": "40181611",
   "metadata": {},
   "outputs": [],
   "source": [
    "d8=df1.groupby(['fuelsystem'])['price'].median().to_dict()"
   ]
  },
  {
   "cell_type": "code",
   "execution_count": 144,
   "id": "4b4f42af",
   "metadata": {},
   "outputs": [],
   "source": [
    "df1['fuelsystem']=df1['fuelsystem'].map(d8)"
   ]
  },
  {
   "cell_type": "code",
   "execution_count": 146,
   "id": "f932bbc9",
   "metadata": {},
   "outputs": [
    {
     "data": {
      "text/plain": [
       "std      168\n",
       "turbo     37\n",
       "Name: aspiration, dtype: int64"
      ]
     },
     "execution_count": 146,
     "metadata": {},
     "output_type": "execute_result"
    }
   ],
   "source": [
    "df1['aspiration'].value_counts()"
   ]
  },
  {
   "cell_type": "code",
   "execution_count": 147,
   "id": "0bff8e08",
   "metadata": {},
   "outputs": [],
   "source": [
    "d9={'std':1,'turbo':0}"
   ]
  },
  {
   "cell_type": "code",
   "execution_count": 148,
   "id": "bc0d3391",
   "metadata": {},
   "outputs": [],
   "source": [
    "df1['aspiration']=df1['aspiration'].map(d9)"
   ]
  },
  {
   "cell_type": "code",
   "execution_count": 149,
   "id": "fcd0aca0",
   "metadata": {},
   "outputs": [
    {
     "data": {
      "text/html": [
       "<div>\n",
       "<style scoped>\n",
       "    .dataframe tbody tr th:only-of-type {\n",
       "        vertical-align: middle;\n",
       "    }\n",
       "\n",
       "    .dataframe tbody tr th {\n",
       "        vertical-align: top;\n",
       "    }\n",
       "\n",
       "    .dataframe thead th {\n",
       "        text-align: right;\n",
       "    }\n",
       "</style>\n",
       "<table border=\"1\" class=\"dataframe\">\n",
       "  <thead>\n",
       "    <tr style=\"text-align: right;\">\n",
       "      <th></th>\n",
       "      <th>symboling</th>\n",
       "      <th>fueltype</th>\n",
       "      <th>aspiration</th>\n",
       "      <th>doornumber</th>\n",
       "      <th>carbody</th>\n",
       "      <th>drivewheel</th>\n",
       "      <th>enginelocation</th>\n",
       "      <th>wheelbase</th>\n",
       "      <th>carlength</th>\n",
       "      <th>carwidth</th>\n",
       "      <th>carheight</th>\n",
       "      <th>curbweight</th>\n",
       "      <th>enginetype</th>\n",
       "      <th>cylindernumber</th>\n",
       "      <th>enginesize</th>\n",
       "      <th>fuelsystem</th>\n",
       "      <th>boreratio</th>\n",
       "      <th>stroke</th>\n",
       "      <th>compressionratio</th>\n",
       "      <th>horsepower</th>\n",
       "      <th>peakrpm</th>\n",
       "      <th>citympg</th>\n",
       "      <th>highwaympg</th>\n",
       "      <th>price</th>\n",
       "    </tr>\n",
       "  </thead>\n",
       "  <tbody>\n",
       "    <tr>\n",
       "      <th>0</th>\n",
       "      <td>3</td>\n",
       "      <td>0</td>\n",
       "      <td>1</td>\n",
       "      <td>0</td>\n",
       "      <td>0.477805</td>\n",
       "      <td>2</td>\n",
       "      <td>1</td>\n",
       "      <td>88.6</td>\n",
       "      <td>168.8</td>\n",
       "      <td>64.1</td>\n",
       "      <td>48.8</td>\n",
       "      <td>2548</td>\n",
       "      <td>0.372965</td>\n",
       "      <td>-0.543170</td>\n",
       "      <td>130</td>\n",
       "      <td>0.340654</td>\n",
       "      <td>3.47</td>\n",
       "      <td>2.68</td>\n",
       "      <td>9.0</td>\n",
       "      <td>111</td>\n",
       "      <td>5000</td>\n",
       "      <td>21</td>\n",
       "      <td>27</td>\n",
       "      <td>0.027391</td>\n",
       "    </tr>\n",
       "    <tr>\n",
       "      <th>1</th>\n",
       "      <td>3</td>\n",
       "      <td>0</td>\n",
       "      <td>1</td>\n",
       "      <td>0</td>\n",
       "      <td>0.477805</td>\n",
       "      <td>2</td>\n",
       "      <td>1</td>\n",
       "      <td>88.6</td>\n",
       "      <td>168.8</td>\n",
       "      <td>64.1</td>\n",
       "      <td>48.8</td>\n",
       "      <td>2548</td>\n",
       "      <td>0.372965</td>\n",
       "      <td>-0.543170</td>\n",
       "      <td>130</td>\n",
       "      <td>0.340654</td>\n",
       "      <td>3.47</td>\n",
       "      <td>2.68</td>\n",
       "      <td>9.0</td>\n",
       "      <td>111</td>\n",
       "      <td>5000</td>\n",
       "      <td>21</td>\n",
       "      <td>27</td>\n",
       "      <td>0.404461</td>\n",
       "    </tr>\n",
       "    <tr>\n",
       "      <th>2</th>\n",
       "      <td>1</td>\n",
       "      <td>0</td>\n",
       "      <td>1</td>\n",
       "      <td>0</td>\n",
       "      <td>-0.549570</td>\n",
       "      <td>2</td>\n",
       "      <td>1</td>\n",
       "      <td>94.5</td>\n",
       "      <td>171.2</td>\n",
       "      <td>65.5</td>\n",
       "      <td>52.4</td>\n",
       "      <td>2823</td>\n",
       "      <td>0.805874</td>\n",
       "      <td>0.973830</td>\n",
       "      <td>152</td>\n",
       "      <td>0.340654</td>\n",
       "      <td>2.68</td>\n",
       "      <td>3.47</td>\n",
       "      <td>9.0</td>\n",
       "      <td>154</td>\n",
       "      <td>5000</td>\n",
       "      <td>19</td>\n",
       "      <td>26</td>\n",
       "      <td>0.404461</td>\n",
       "    </tr>\n",
       "    <tr>\n",
       "      <th>3</th>\n",
       "      <td>2</td>\n",
       "      <td>0</td>\n",
       "      <td>1</td>\n",
       "      <td>1</td>\n",
       "      <td>-0.304945</td>\n",
       "      <td>1</td>\n",
       "      <td>1</td>\n",
       "      <td>99.8</td>\n",
       "      <td>176.6</td>\n",
       "      <td>66.2</td>\n",
       "      <td>54.3</td>\n",
       "      <td>2337</td>\n",
       "      <td>-0.533885</td>\n",
       "      <td>-0.543170</td>\n",
       "      <td>109</td>\n",
       "      <td>0.340654</td>\n",
       "      <td>3.19</td>\n",
       "      <td>3.40</td>\n",
       "      <td>10.0</td>\n",
       "      <td>102</td>\n",
       "      <td>5500</td>\n",
       "      <td>24</td>\n",
       "      <td>30</td>\n",
       "      <td>0.084485</td>\n",
       "    </tr>\n",
       "    <tr>\n",
       "      <th>4</th>\n",
       "      <td>2</td>\n",
       "      <td>0</td>\n",
       "      <td>1</td>\n",
       "      <td>1</td>\n",
       "      <td>-0.304945</td>\n",
       "      <td>0</td>\n",
       "      <td>1</td>\n",
       "      <td>99.4</td>\n",
       "      <td>176.6</td>\n",
       "      <td>66.4</td>\n",
       "      <td>54.3</td>\n",
       "      <td>2824</td>\n",
       "      <td>-0.533885</td>\n",
       "      <td>0.708125</td>\n",
       "      <td>136</td>\n",
       "      <td>0.340654</td>\n",
       "      <td>3.19</td>\n",
       "      <td>3.40</td>\n",
       "      <td>8.0</td>\n",
       "      <td>115</td>\n",
       "      <td>5500</td>\n",
       "      <td>18</td>\n",
       "      <td>22</td>\n",
       "      <td>0.523668</td>\n",
       "    </tr>\n",
       "  </tbody>\n",
       "</table>\n",
       "</div>"
      ],
      "text/plain": [
       "   symboling  fueltype  aspiration  doornumber   carbody  drivewheel  \\\n",
       "0          3         0           1           0  0.477805           2   \n",
       "1          3         0           1           0  0.477805           2   \n",
       "2          1         0           1           0 -0.549570           2   \n",
       "3          2         0           1           1 -0.304945           1   \n",
       "4          2         0           1           1 -0.304945           0   \n",
       "\n",
       "   enginelocation  wheelbase  carlength  carwidth  carheight  curbweight  \\\n",
       "0               1       88.6      168.8      64.1       48.8        2548   \n",
       "1               1       88.6      168.8      64.1       48.8        2548   \n",
       "2               1       94.5      171.2      65.5       52.4        2823   \n",
       "3               1       99.8      176.6      66.2       54.3        2337   \n",
       "4               1       99.4      176.6      66.4       54.3        2824   \n",
       "\n",
       "   enginetype  cylindernumber  enginesize  fuelsystem  boreratio  stroke  \\\n",
       "0    0.372965       -0.543170         130    0.340654       3.47    2.68   \n",
       "1    0.372965       -0.543170         130    0.340654       3.47    2.68   \n",
       "2    0.805874        0.973830         152    0.340654       2.68    3.47   \n",
       "3   -0.533885       -0.543170         109    0.340654       3.19    3.40   \n",
       "4   -0.533885        0.708125         136    0.340654       3.19    3.40   \n",
       "\n",
       "   compressionratio  horsepower  peakrpm  citympg  highwaympg     price  \n",
       "0               9.0         111     5000       21          27  0.027391  \n",
       "1               9.0         111     5000       21          27  0.404461  \n",
       "2               9.0         154     5000       19          26  0.404461  \n",
       "3              10.0         102     5500       24          30  0.084485  \n",
       "4               8.0         115     5500       18          22  0.523668  "
      ]
     },
     "execution_count": 149,
     "metadata": {},
     "output_type": "execute_result"
    }
   ],
   "source": [
    "df1.head()"
   ]
  },
  {
   "cell_type": "markdown",
   "id": "d72ac97d",
   "metadata": {},
   "source": [
    "## Train Test Split"
   ]
  },
  {
   "cell_type": "code",
   "execution_count": 150,
   "id": "a9cfb9b7",
   "metadata": {},
   "outputs": [],
   "source": [
    "x=df1.drop(columns='price')\n",
    "y=df1['price']"
   ]
  },
  {
   "cell_type": "code",
   "execution_count": 151,
   "id": "dc21545b",
   "metadata": {},
   "outputs": [],
   "source": [
    "from sklearn.model_selection import train_test_split"
   ]
  },
  {
   "cell_type": "code",
   "execution_count": 152,
   "id": "731db8ef",
   "metadata": {},
   "outputs": [],
   "source": [
    "xtr,xte,ytr,yte=train_test_split(x,y,train_size=0.8,random_state=17)"
   ]
  },
  {
   "cell_type": "code",
   "execution_count": 153,
   "id": "b4f413b3",
   "metadata": {},
   "outputs": [
    {
     "name": "stdout",
     "output_type": "stream",
     "text": [
      "(164, 23) (41, 23)\n"
     ]
    }
   ],
   "source": [
    "print(xtr.shape,xte.shape)"
   ]
  },
  {
   "cell_type": "code",
   "execution_count": 154,
   "id": "a5112c2d",
   "metadata": {},
   "outputs": [
    {
     "name": "stdout",
     "output_type": "stream",
     "text": [
      "(164,) (41,)\n"
     ]
    }
   ],
   "source": [
    "print(ytr.shape,yte.shape)"
   ]
  },
  {
   "cell_type": "markdown",
   "id": "a93054e4",
   "metadata": {},
   "source": [
    "## Model Building"
   ]
  },
  {
   "cell_type": "markdown",
   "id": "bb0d1c2a",
   "metadata": {},
   "source": [
    "### Linear Regression"
   ]
  },
  {
   "cell_type": "code",
   "execution_count": 155,
   "id": "fbf410bf",
   "metadata": {},
   "outputs": [],
   "source": [
    "import statsmodels.api as sma"
   ]
  },
  {
   "cell_type": "code",
   "execution_count": 156,
   "id": "c9396ac4",
   "metadata": {},
   "outputs": [],
   "source": [
    "lr=sma.OLS(ytr,sma.add_constant(xtr)).fit()"
   ]
  },
  {
   "cell_type": "code",
   "execution_count": 157,
   "id": "822d7e4e",
   "metadata": {},
   "outputs": [
    {
     "data": {
      "text/html": [
       "<table class=\"simpletable\">\n",
       "<caption>OLS Regression Results</caption>\n",
       "<tr>\n",
       "  <th>Dep. Variable:</th>          <td>price</td>      <th>  R-squared:         </th> <td>   0.911</td>\n",
       "</tr>\n",
       "<tr>\n",
       "  <th>Model:</th>                   <td>OLS</td>       <th>  Adj. R-squared:    </th> <td>   0.897</td>\n",
       "</tr>\n",
       "<tr>\n",
       "  <th>Method:</th>             <td>Least Squares</td>  <th>  F-statistic:       </th> <td>   62.60</td>\n",
       "</tr>\n",
       "<tr>\n",
       "  <th>Date:</th>             <td>Mon, 05 Dec 2022</td> <th>  Prob (F-statistic):</th> <td>3.66e-62</td>\n",
       "</tr>\n",
       "<tr>\n",
       "  <th>Time:</th>                 <td>21:15:22</td>     <th>  Log-Likelihood:    </th> <td> -26.832</td>\n",
       "</tr>\n",
       "<tr>\n",
       "  <th>No. Observations:</th>      <td>   164</td>      <th>  AIC:               </th> <td>   101.7</td>\n",
       "</tr>\n",
       "<tr>\n",
       "  <th>Df Residuals:</th>          <td>   140</td>      <th>  BIC:               </th> <td>   176.1</td>\n",
       "</tr>\n",
       "<tr>\n",
       "  <th>Df Model:</th>              <td>    23</td>      <th>                     </th>     <td> </td>   \n",
       "</tr>\n",
       "<tr>\n",
       "  <th>Covariance Type:</th>      <td>nonrobust</td>    <th>                     </th>     <td> </td>   \n",
       "</tr>\n",
       "</table>\n",
       "<table class=\"simpletable\">\n",
       "<tr>\n",
       "          <td></td>            <th>coef</th>     <th>std err</th>      <th>t</th>      <th>P>|t|</th>  <th>[0.025</th>    <th>0.975]</th>  \n",
       "</tr>\n",
       "<tr>\n",
       "  <th>const</th>            <td>   -7.8522</td> <td>    1.766</td> <td>   -4.447</td> <td> 0.000</td> <td>  -11.343</td> <td>   -4.361</td>\n",
       "</tr>\n",
       "<tr>\n",
       "  <th>symboling</th>        <td>    0.0774</td> <td>    0.033</td> <td>    2.360</td> <td> 0.020</td> <td>    0.013</td> <td>    0.142</td>\n",
       "</tr>\n",
       "<tr>\n",
       "  <th>fueltype</th>         <td>    1.0709</td> <td>    0.793</td> <td>    1.350</td> <td> 0.179</td> <td>   -0.497</td> <td>    2.639</td>\n",
       "</tr>\n",
       "<tr>\n",
       "  <th>aspiration</th>       <td>   -0.1752</td> <td>    0.121</td> <td>   -1.442</td> <td> 0.152</td> <td>   -0.415</td> <td>    0.065</td>\n",
       "</tr>\n",
       "<tr>\n",
       "  <th>doornumber</th>       <td>    0.0950</td> <td>    0.083</td> <td>    1.150</td> <td> 0.252</td> <td>   -0.068</td> <td>    0.258</td>\n",
       "</tr>\n",
       "<tr>\n",
       "  <th>carbody</th>          <td>    0.1558</td> <td>    0.103</td> <td>    1.516</td> <td> 0.132</td> <td>   -0.047</td> <td>    0.359</td>\n",
       "</tr>\n",
       "<tr>\n",
       "  <th>drivewheel</th>       <td>    0.2595</td> <td>    0.073</td> <td>    3.568</td> <td> 0.000</td> <td>    0.116</td> <td>    0.403</td>\n",
       "</tr>\n",
       "<tr>\n",
       "  <th>enginelocation</th>   <td>   -1.0156</td> <td>    0.298</td> <td>   -3.403</td> <td> 0.001</td> <td>   -1.606</td> <td>   -0.426</td>\n",
       "</tr>\n",
       "<tr>\n",
       "  <th>wheelbase</th>        <td>    0.0179</td> <td>    0.014</td> <td>    1.288</td> <td> 0.200</td> <td>   -0.010</td> <td>    0.045</td>\n",
       "</tr>\n",
       "<tr>\n",
       "  <th>carlength</th>        <td>   -0.0112</td> <td>    0.007</td> <td>   -1.676</td> <td> 0.096</td> <td>   -0.024</td> <td>    0.002</td>\n",
       "</tr>\n",
       "<tr>\n",
       "  <th>carwidth</th>         <td>    0.0747</td> <td>    0.030</td> <td>    2.459</td> <td> 0.015</td> <td>    0.015</td> <td>    0.135</td>\n",
       "</tr>\n",
       "<tr>\n",
       "  <th>carheight</th>        <td>    0.0227</td> <td>    0.016</td> <td>    1.408</td> <td> 0.161</td> <td>   -0.009</td> <td>    0.055</td>\n",
       "</tr>\n",
       "<tr>\n",
       "  <th>curbweight</th>       <td>    0.0005</td> <td>    0.000</td> <td>    2.130</td> <td> 0.035</td> <td> 3.92e-05</td> <td>    0.001</td>\n",
       "</tr>\n",
       "<tr>\n",
       "  <th>enginetype</th>       <td>   -0.4071</td> <td>    0.084</td> <td>   -4.866</td> <td> 0.000</td> <td>   -0.573</td> <td>   -0.242</td>\n",
       "</tr>\n",
       "<tr>\n",
       "  <th>cylindernumber</th>   <td>    0.4535</td> <td>    0.089</td> <td>    5.106</td> <td> 0.000</td> <td>    0.278</td> <td>    0.629</td>\n",
       "</tr>\n",
       "<tr>\n",
       "  <th>enginesize</th>       <td>    0.0056</td> <td>    0.002</td> <td>    2.459</td> <td> 0.015</td> <td>    0.001</td> <td>    0.010</td>\n",
       "</tr>\n",
       "<tr>\n",
       "  <th>fuelsystem</th>       <td>    0.0157</td> <td>    0.078</td> <td>    0.202</td> <td> 0.840</td> <td>   -0.138</td> <td>    0.169</td>\n",
       "</tr>\n",
       "<tr>\n",
       "  <th>boreratio</th>        <td>    0.0383</td> <td>    0.162</td> <td>    0.236</td> <td> 0.814</td> <td>   -0.283</td> <td>    0.359</td>\n",
       "</tr>\n",
       "<tr>\n",
       "  <th>stroke</th>           <td>   -0.3350</td> <td>    0.099</td> <td>   -3.379</td> <td> 0.001</td> <td>   -0.531</td> <td>   -0.139</td>\n",
       "</tr>\n",
       "<tr>\n",
       "  <th>compressionratio</th> <td>   -0.0733</td> <td>    0.056</td> <td>   -1.317</td> <td> 0.190</td> <td>   -0.183</td> <td>    0.037</td>\n",
       "</tr>\n",
       "<tr>\n",
       "  <th>horsepower</th>       <td>    0.0029</td> <td>    0.003</td> <td>    1.161</td> <td> 0.248</td> <td>   -0.002</td> <td>    0.008</td>\n",
       "</tr>\n",
       "<tr>\n",
       "  <th>peakrpm</th>          <td>    0.0002</td> <td>  8.3e-05</td> <td>    2.741</td> <td> 0.007</td> <td> 6.34e-05</td> <td>    0.000</td>\n",
       "</tr>\n",
       "<tr>\n",
       "  <th>citympg</th>          <td>   -0.0163</td> <td>    0.021</td> <td>   -0.782</td> <td> 0.436</td> <td>   -0.058</td> <td>    0.025</td>\n",
       "</tr>\n",
       "<tr>\n",
       "  <th>highwaympg</th>       <td>    0.0323</td> <td>    0.019</td> <td>    1.698</td> <td> 0.092</td> <td>   -0.005</td> <td>    0.070</td>\n",
       "</tr>\n",
       "</table>\n",
       "<table class=\"simpletable\">\n",
       "<tr>\n",
       "  <th>Omnibus:</th>       <td> 7.938</td> <th>  Durbin-Watson:     </th> <td>   2.374</td>\n",
       "</tr>\n",
       "<tr>\n",
       "  <th>Prob(Omnibus):</th> <td> 0.019</td> <th>  Jarque-Bera (JB):  </th> <td>   8.574</td>\n",
       "</tr>\n",
       "<tr>\n",
       "  <th>Skew:</th>          <td> 0.393</td> <th>  Prob(JB):          </th> <td>  0.0137</td>\n",
       "</tr>\n",
       "<tr>\n",
       "  <th>Kurtosis:</th>      <td> 3.799</td> <th>  Cond. No.          </th> <td>4.24e+05</td>\n",
       "</tr>\n",
       "</table><br/><br/>Notes:<br/>[1] Standard Errors assume that the covariance matrix of the errors is correctly specified.<br/>[2] The condition number is large, 4.24e+05. This might indicate that there are<br/>strong multicollinearity or other numerical problems."
      ],
      "text/plain": [
       "<class 'statsmodels.iolib.summary.Summary'>\n",
       "\"\"\"\n",
       "                            OLS Regression Results                            \n",
       "==============================================================================\n",
       "Dep. Variable:                  price   R-squared:                       0.911\n",
       "Model:                            OLS   Adj. R-squared:                  0.897\n",
       "Method:                 Least Squares   F-statistic:                     62.60\n",
       "Date:                Mon, 05 Dec 2022   Prob (F-statistic):           3.66e-62\n",
       "Time:                        21:15:22   Log-Likelihood:                -26.832\n",
       "No. Observations:                 164   AIC:                             101.7\n",
       "Df Residuals:                     140   BIC:                             176.1\n",
       "Df Model:                          23                                         \n",
       "Covariance Type:            nonrobust                                         \n",
       "====================================================================================\n",
       "                       coef    std err          t      P>|t|      [0.025      0.975]\n",
       "------------------------------------------------------------------------------------\n",
       "const               -7.8522      1.766     -4.447      0.000     -11.343      -4.361\n",
       "symboling            0.0774      0.033      2.360      0.020       0.013       0.142\n",
       "fueltype             1.0709      0.793      1.350      0.179      -0.497       2.639\n",
       "aspiration          -0.1752      0.121     -1.442      0.152      -0.415       0.065\n",
       "doornumber           0.0950      0.083      1.150      0.252      -0.068       0.258\n",
       "carbody              0.1558      0.103      1.516      0.132      -0.047       0.359\n",
       "drivewheel           0.2595      0.073      3.568      0.000       0.116       0.403\n",
       "enginelocation      -1.0156      0.298     -3.403      0.001      -1.606      -0.426\n",
       "wheelbase            0.0179      0.014      1.288      0.200      -0.010       0.045\n",
       "carlength           -0.0112      0.007     -1.676      0.096      -0.024       0.002\n",
       "carwidth             0.0747      0.030      2.459      0.015       0.015       0.135\n",
       "carheight            0.0227      0.016      1.408      0.161      -0.009       0.055\n",
       "curbweight           0.0005      0.000      2.130      0.035    3.92e-05       0.001\n",
       "enginetype          -0.4071      0.084     -4.866      0.000      -0.573      -0.242\n",
       "cylindernumber       0.4535      0.089      5.106      0.000       0.278       0.629\n",
       "enginesize           0.0056      0.002      2.459      0.015       0.001       0.010\n",
       "fuelsystem           0.0157      0.078      0.202      0.840      -0.138       0.169\n",
       "boreratio            0.0383      0.162      0.236      0.814      -0.283       0.359\n",
       "stroke              -0.3350      0.099     -3.379      0.001      -0.531      -0.139\n",
       "compressionratio    -0.0733      0.056     -1.317      0.190      -0.183       0.037\n",
       "horsepower           0.0029      0.003      1.161      0.248      -0.002       0.008\n",
       "peakrpm              0.0002    8.3e-05      2.741      0.007    6.34e-05       0.000\n",
       "citympg             -0.0163      0.021     -0.782      0.436      -0.058       0.025\n",
       "highwaympg           0.0323      0.019      1.698      0.092      -0.005       0.070\n",
       "==============================================================================\n",
       "Omnibus:                        7.938   Durbin-Watson:                   2.374\n",
       "Prob(Omnibus):                  0.019   Jarque-Bera (JB):                8.574\n",
       "Skew:                           0.393   Prob(JB):                       0.0137\n",
       "Kurtosis:                       3.799   Cond. No.                     4.24e+05\n",
       "==============================================================================\n",
       "\n",
       "Notes:\n",
       "[1] Standard Errors assume that the covariance matrix of the errors is correctly specified.\n",
       "[2] The condition number is large, 4.24e+05. This might indicate that there are\n",
       "strong multicollinearity or other numerical problems.\n",
       "\"\"\""
      ]
     },
     "execution_count": 157,
     "metadata": {},
     "output_type": "execute_result"
    }
   ],
   "source": [
    "lr.summary()"
   ]
  },
  {
   "cell_type": "markdown",
   "id": "46ff9dd5",
   "metadata": {},
   "source": [
    "Though Multi Collinearity is present in every column we cannot remove them."
   ]
  },
  {
   "cell_type": "code",
   "execution_count": 159,
   "id": "38359a0d",
   "metadata": {},
   "outputs": [
    {
     "data": {
      "text/plain": [
       "const             0.000018\n",
       "symboling         0.019643\n",
       "drivewheel        0.000494\n",
       "enginelocation    0.000869\n",
       "carwidth          0.015138\n",
       "curbweight        0.034950\n",
       "enginetype        0.000003\n",
       "cylindernumber    0.000001\n",
       "enginesize        0.015155\n",
       "stroke            0.000942\n",
       "peakrpm           0.006927\n",
       "dtype: float64"
      ]
     },
     "execution_count": 159,
     "metadata": {},
     "output_type": "execute_result"
    }
   ],
   "source": [
    "lr.pvalues[lr.pvalues<0.05]"
   ]
  },
  {
   "cell_type": "markdown",
   "id": "e57917eb",
   "metadata": {},
   "source": [
    "The above variables are signficant over price."
   ]
  },
  {
   "cell_type": "markdown",
   "id": "a1b38741",
   "metadata": {},
   "source": [
    "Let us see if the R square increases on remove some of the insignificant variables."
   ]
  },
  {
   "cell_type": "code",
   "execution_count": 169,
   "id": "6b0ea370",
   "metadata": {},
   "outputs": [
    {
     "data": {
      "text/plain": [
       "Jarque_beraResult(statistic=8.57391861177295, pvalue=0.01374666120394874)"
      ]
     },
     "execution_count": 169,
     "metadata": {},
     "output_type": "execute_result"
    }
   ],
   "source": [
    "stats.jarque_bera(lr.resid)"
   ]
  },
  {
   "cell_type": "markdown",
   "id": "566cb96d",
   "metadata": {},
   "source": [
    "As the p values is less than 0.05 the data is normalized."
   ]
  },
  {
   "cell_type": "code",
   "execution_count": 162,
   "id": "cd41de73",
   "metadata": {},
   "outputs": [
    {
     "data": {
      "text/plain": [
       "Index(['fueltype', 'aspiration', 'doornumber', 'carbody', 'wheelbase',\n",
       "       'carlength', 'carheight', 'fuelsystem', 'boreratio', 'compressionratio',\n",
       "       'horsepower', 'citympg', 'highwaympg'],\n",
       "      dtype='object')"
      ]
     },
     "execution_count": 162,
     "metadata": {},
     "output_type": "execute_result"
    }
   ],
   "source": [
    "lr.pvalues[lr.pvalues>0.05].index"
   ]
  },
  {
   "cell_type": "code",
   "execution_count": 171,
   "id": "312cf11e",
   "metadata": {},
   "outputs": [],
   "source": [
    "lr1=sma.OLS(ytr,sma.add_constant(xtr1)).fit()"
   ]
  },
  {
   "cell_type": "code",
   "execution_count": 172,
   "id": "7e4d53e5",
   "metadata": {},
   "outputs": [
    {
     "data": {
      "text/html": [
       "<table class=\"simpletable\">\n",
       "<caption>OLS Regression Results</caption>\n",
       "<tr>\n",
       "  <th>Dep. Variable:</th>          <td>price</td>      <th>  R-squared:         </th> <td>   0.899</td>\n",
       "</tr>\n",
       "<tr>\n",
       "  <th>Model:</th>                   <td>OLS</td>       <th>  Adj. R-squared:    </th> <td>   0.888</td>\n",
       "</tr>\n",
       "<tr>\n",
       "  <th>Method:</th>             <td>Least Squares</td>  <th>  F-statistic:       </th> <td>   81.62</td>\n",
       "</tr>\n",
       "<tr>\n",
       "  <th>Date:</th>             <td>Mon, 05 Dec 2022</td> <th>  Prob (F-statistic):</th> <td>1.19e-64</td>\n",
       "</tr>\n",
       "<tr>\n",
       "  <th>Time:</th>                 <td>21:23:48</td>     <th>  Log-Likelihood:    </th> <td> -37.698</td>\n",
       "</tr>\n",
       "<tr>\n",
       "  <th>No. Observations:</th>      <td>   164</td>      <th>  AIC:               </th> <td>   109.4</td>\n",
       "</tr>\n",
       "<tr>\n",
       "  <th>Df Residuals:</th>          <td>   147</td>      <th>  BIC:               </th> <td>   162.1</td>\n",
       "</tr>\n",
       "<tr>\n",
       "  <th>Df Model:</th>              <td>    16</td>      <th>                     </th>     <td> </td>   \n",
       "</tr>\n",
       "<tr>\n",
       "  <th>Covariance Type:</th>      <td>nonrobust</td>    <th>                     </th>     <td> </td>   \n",
       "</tr>\n",
       "</table>\n",
       "<table class=\"simpletable\">\n",
       "<tr>\n",
       "          <td></td>            <th>coef</th>     <th>std err</th>      <th>t</th>      <th>P>|t|</th>  <th>[0.025</th>    <th>0.975]</th>  \n",
       "</tr>\n",
       "<tr>\n",
       "  <th>const</th>            <td>   -7.2497</td> <td>    1.622</td> <td>   -4.470</td> <td> 0.000</td> <td>  -10.454</td> <td>   -4.045</td>\n",
       "</tr>\n",
       "<tr>\n",
       "  <th>symboling</th>        <td>    0.0351</td> <td>    0.024</td> <td>    1.436</td> <td> 0.153</td> <td>   -0.013</td> <td>    0.083</td>\n",
       "</tr>\n",
       "<tr>\n",
       "  <th>drivewheel</th>       <td>    0.1958</td> <td>    0.062</td> <td>    3.152</td> <td> 0.002</td> <td>    0.073</td> <td>    0.319</td>\n",
       "</tr>\n",
       "<tr>\n",
       "  <th>enginelocation</th>   <td>   -1.2835</td> <td>    0.289</td> <td>   -4.447</td> <td> 0.000</td> <td>   -1.854</td> <td>   -0.713</td>\n",
       "</tr>\n",
       "<tr>\n",
       "  <th>carwidth</th>         <td>    0.0701</td> <td>    0.027</td> <td>    2.589</td> <td> 0.011</td> <td>    0.017</td> <td>    0.124</td>\n",
       "</tr>\n",
       "<tr>\n",
       "  <th>curbweight</th>       <td>    0.0008</td> <td>    0.000</td> <td>    3.689</td> <td> 0.000</td> <td>    0.000</td> <td>    0.001</td>\n",
       "</tr>\n",
       "<tr>\n",
       "  <th>enginetype</th>       <td>   -0.4270</td> <td>    0.085</td> <td>   -5.053</td> <td> 0.000</td> <td>   -0.594</td> <td>   -0.260</td>\n",
       "</tr>\n",
       "<tr>\n",
       "  <th>cylindernumber</th>   <td>    0.4032</td> <td>    0.086</td> <td>    4.710</td> <td> 0.000</td> <td>    0.234</td> <td>    0.572</td>\n",
       "</tr>\n",
       "<tr>\n",
       "  <th>enginesize</th>       <td>    0.0034</td> <td>    0.002</td> <td>    1.580</td> <td> 0.116</td> <td>   -0.001</td> <td>    0.008</td>\n",
       "</tr>\n",
       "<tr>\n",
       "  <th>fuelsystem</th>       <td>    0.0071</td> <td>    0.077</td> <td>    0.091</td> <td> 0.927</td> <td>   -0.146</td> <td>    0.160</td>\n",
       "</tr>\n",
       "<tr>\n",
       "  <th>boreratio</th>        <td>    0.0257</td> <td>    0.163</td> <td>    0.157</td> <td> 0.875</td> <td>   -0.297</td> <td>    0.348</td>\n",
       "</tr>\n",
       "<tr>\n",
       "  <th>stroke</th>           <td>   -0.2390</td> <td>    0.096</td> <td>   -2.495</td> <td> 0.014</td> <td>   -0.428</td> <td>   -0.050</td>\n",
       "</tr>\n",
       "<tr>\n",
       "  <th>compressionratio</th> <td>    0.0048</td> <td>    0.011</td> <td>    0.449</td> <td> 0.654</td> <td>   -0.016</td> <td>    0.026</td>\n",
       "</tr>\n",
       "<tr>\n",
       "  <th>horsepower</th>       <td>    0.0031</td> <td>    0.002</td> <td>    1.621</td> <td> 0.107</td> <td>   -0.001</td> <td>    0.007</td>\n",
       "</tr>\n",
       "<tr>\n",
       "  <th>peakrpm</th>          <td>    0.0002</td> <td> 8.04e-05</td> <td>    2.019</td> <td> 0.045</td> <td> 3.41e-06</td> <td>    0.000</td>\n",
       "</tr>\n",
       "<tr>\n",
       "  <th>citympg</th>          <td>    0.0048</td> <td>    0.019</td> <td>    0.249</td> <td> 0.803</td> <td>   -0.033</td> <td>    0.043</td>\n",
       "</tr>\n",
       "<tr>\n",
       "  <th>highwaympg</th>       <td>    0.0121</td> <td>    0.018</td> <td>    0.683</td> <td> 0.496</td> <td>   -0.023</td> <td>    0.047</td>\n",
       "</tr>\n",
       "</table>\n",
       "<table class=\"simpletable\">\n",
       "<tr>\n",
       "  <th>Omnibus:</th>       <td>22.210</td> <th>  Durbin-Watson:     </th> <td>   2.283</td>\n",
       "</tr>\n",
       "<tr>\n",
       "  <th>Prob(Omnibus):</th> <td> 0.000</td> <th>  Jarque-Bera (JB):  </th> <td>  44.144</td>\n",
       "</tr>\n",
       "<tr>\n",
       "  <th>Skew:</th>          <td> 0.620</td> <th>  Prob(JB):          </th> <td>2.60e-10</td>\n",
       "</tr>\n",
       "<tr>\n",
       "  <th>Kurtosis:</th>      <td> 5.218</td> <th>  Cond. No.          </th> <td>3.72e+05</td>\n",
       "</tr>\n",
       "</table><br/><br/>Notes:<br/>[1] Standard Errors assume that the covariance matrix of the errors is correctly specified.<br/>[2] The condition number is large, 3.72e+05. This might indicate that there are<br/>strong multicollinearity or other numerical problems."
      ],
      "text/plain": [
       "<class 'statsmodels.iolib.summary.Summary'>\n",
       "\"\"\"\n",
       "                            OLS Regression Results                            \n",
       "==============================================================================\n",
       "Dep. Variable:                  price   R-squared:                       0.899\n",
       "Model:                            OLS   Adj. R-squared:                  0.888\n",
       "Method:                 Least Squares   F-statistic:                     81.62\n",
       "Date:                Mon, 05 Dec 2022   Prob (F-statistic):           1.19e-64\n",
       "Time:                        21:23:48   Log-Likelihood:                -37.698\n",
       "No. Observations:                 164   AIC:                             109.4\n",
       "Df Residuals:                     147   BIC:                             162.1\n",
       "Df Model:                          16                                         \n",
       "Covariance Type:            nonrobust                                         \n",
       "====================================================================================\n",
       "                       coef    std err          t      P>|t|      [0.025      0.975]\n",
       "------------------------------------------------------------------------------------\n",
       "const               -7.2497      1.622     -4.470      0.000     -10.454      -4.045\n",
       "symboling            0.0351      0.024      1.436      0.153      -0.013       0.083\n",
       "drivewheel           0.1958      0.062      3.152      0.002       0.073       0.319\n",
       "enginelocation      -1.2835      0.289     -4.447      0.000      -1.854      -0.713\n",
       "carwidth             0.0701      0.027      2.589      0.011       0.017       0.124\n",
       "curbweight           0.0008      0.000      3.689      0.000       0.000       0.001\n",
       "enginetype          -0.4270      0.085     -5.053      0.000      -0.594      -0.260\n",
       "cylindernumber       0.4032      0.086      4.710      0.000       0.234       0.572\n",
       "enginesize           0.0034      0.002      1.580      0.116      -0.001       0.008\n",
       "fuelsystem           0.0071      0.077      0.091      0.927      -0.146       0.160\n",
       "boreratio            0.0257      0.163      0.157      0.875      -0.297       0.348\n",
       "stroke              -0.2390      0.096     -2.495      0.014      -0.428      -0.050\n",
       "compressionratio     0.0048      0.011      0.449      0.654      -0.016       0.026\n",
       "horsepower           0.0031      0.002      1.621      0.107      -0.001       0.007\n",
       "peakrpm              0.0002   8.04e-05      2.019      0.045    3.41e-06       0.000\n",
       "citympg              0.0048      0.019      0.249      0.803      -0.033       0.043\n",
       "highwaympg           0.0121      0.018      0.683      0.496      -0.023       0.047\n",
       "==============================================================================\n",
       "Omnibus:                       22.210   Durbin-Watson:                   2.283\n",
       "Prob(Omnibus):                  0.000   Jarque-Bera (JB):               44.144\n",
       "Skew:                           0.620   Prob(JB):                     2.60e-10\n",
       "Kurtosis:                       5.218   Cond. No.                     3.72e+05\n",
       "==============================================================================\n",
       "\n",
       "Notes:\n",
       "[1] Standard Errors assume that the covariance matrix of the errors is correctly specified.\n",
       "[2] The condition number is large, 3.72e+05. This might indicate that there are\n",
       "strong multicollinearity or other numerical problems.\n",
       "\"\"\""
      ]
     },
     "execution_count": 172,
     "metadata": {},
     "output_type": "execute_result"
    }
   ],
   "source": [
    "lr1.summary()"
   ]
  },
  {
   "cell_type": "markdown",
   "id": "9a8b7d23",
   "metadata": {},
   "source": [
    "On removing some of the variables there is a decrease in R square value and minute decrease of Adj. R square. Hence we cannot remove those variables."
   ]
  },
  {
   "cell_type": "code",
   "execution_count": 160,
   "id": "916447cd",
   "metadata": {},
   "outputs": [],
   "source": [
    "from sklearn.metrics import r2_score, mean_absolute_error, mean_squared_error, ad"
   ]
  },
  {
   "cell_type": "code",
   "execution_count": 176,
   "id": "cff66bfa",
   "metadata": {},
   "outputs": [],
   "source": [
    "lrr=lr.rsquared"
   ]
  },
  {
   "cell_type": "code",
   "execution_count": 194,
   "id": "a5c3e02e",
   "metadata": {},
   "outputs": [
    {
     "data": {
      "text/plain": [
       "0.3084428329860027"
      ]
     },
     "execution_count": 194,
     "metadata": {},
     "output_type": "execute_result"
    }
   ],
   "source": [
    "lrm=np.sqrt(lr.mse_resid)\n",
    "lrm"
   ]
  },
  {
   "cell_type": "markdown",
   "id": "6aacb2d5",
   "metadata": {},
   "source": [
    "## Regularization Model"
   ]
  },
  {
   "cell_type": "markdown",
   "id": "84c72bad",
   "metadata": {},
   "source": [
    "## Ridge"
   ]
  },
  {
   "cell_type": "code",
   "execution_count": 178,
   "id": "97e3a107",
   "metadata": {},
   "outputs": [],
   "source": [
    "from sklearn.linear_model import Ridge, Lasso\n",
    "from sklearn.model_selection import GridSearchCV"
   ]
  },
  {
   "cell_type": "code",
   "execution_count": 180,
   "id": "0511f68a",
   "metadata": {},
   "outputs": [],
   "source": [
    "ridge=Ridge()"
   ]
  },
  {
   "cell_type": "code",
   "execution_count": 182,
   "id": "5e486178",
   "metadata": {},
   "outputs": [],
   "source": [
    "ri1=ridge.fit(xtr,ytr)"
   ]
  },
  {
   "cell_type": "code",
   "execution_count": 186,
   "id": "1e344d68",
   "metadata": {},
   "outputs": [],
   "source": [
    "rypred=ri1.predict(xte)"
   ]
  },
  {
   "cell_type": "code",
   "execution_count": 196,
   "id": "63600673",
   "metadata": {},
   "outputs": [],
   "source": [
    "rrm=np.sqrt(mean_squared_error(rypred,yte))"
   ]
  },
  {
   "cell_type": "code",
   "execution_count": 211,
   "id": "48a1f17d",
   "metadata": {},
   "outputs": [
    {
     "data": {
      "text/plain": [
       "0.3973824637456064"
      ]
     },
     "execution_count": 211,
     "metadata": {},
     "output_type": "execute_result"
    }
   ],
   "source": [
    "rrm"
   ]
  },
  {
   "cell_type": "code",
   "execution_count": 198,
   "id": "1a0e309a",
   "metadata": {},
   "outputs": [],
   "source": [
    "rr=r2_score(rypred,yte)"
   ]
  },
  {
   "cell_type": "code",
   "execution_count": 210,
   "id": "07a77951",
   "metadata": {},
   "outputs": [
    {
     "data": {
      "text/plain": [
       "0.8374377437203877"
      ]
     },
     "execution_count": 210,
     "metadata": {},
     "output_type": "execute_result"
    }
   ],
   "source": [
    "rr"
   ]
  },
  {
   "cell_type": "markdown",
   "id": "cebb0913",
   "metadata": {},
   "source": [
    "For better model performance we perform Grid Search for hyperparametric tuning."
   ]
  },
  {
   "cell_type": "code",
   "execution_count": 199,
   "id": "d857fce1",
   "metadata": {},
   "outputs": [],
   "source": [
    "ridge=Ridge()"
   ]
  },
  {
   "cell_type": "code",
   "execution_count": 200,
   "id": "6d9edea2",
   "metadata": {},
   "outputs": [],
   "source": [
    "params={'alpha':[0.05,0.1,0.2,0.5,0.8]}"
   ]
  },
  {
   "cell_type": "code",
   "execution_count": 201,
   "id": "277e5b3a",
   "metadata": {},
   "outputs": [],
   "source": [
    "grid=GridSearchCV(estimator=ridge, param_grid=params)"
   ]
  },
  {
   "cell_type": "code",
   "execution_count": 202,
   "id": "13261006",
   "metadata": {},
   "outputs": [
    {
     "data": {
      "text/html": [
       "<style>#sk-container-id-1 {color: black;background-color: white;}#sk-container-id-1 pre{padding: 0;}#sk-container-id-1 div.sk-toggleable {background-color: white;}#sk-container-id-1 label.sk-toggleable__label {cursor: pointer;display: block;width: 100%;margin-bottom: 0;padding: 0.3em;box-sizing: border-box;text-align: center;}#sk-container-id-1 label.sk-toggleable__label-arrow:before {content: \"▸\";float: left;margin-right: 0.25em;color: #696969;}#sk-container-id-1 label.sk-toggleable__label-arrow:hover:before {color: black;}#sk-container-id-1 div.sk-estimator:hover label.sk-toggleable__label-arrow:before {color: black;}#sk-container-id-1 div.sk-toggleable__content {max-height: 0;max-width: 0;overflow: hidden;text-align: left;background-color: #f0f8ff;}#sk-container-id-1 div.sk-toggleable__content pre {margin: 0.2em;color: black;border-radius: 0.25em;background-color: #f0f8ff;}#sk-container-id-1 input.sk-toggleable__control:checked~div.sk-toggleable__content {max-height: 200px;max-width: 100%;overflow: auto;}#sk-container-id-1 input.sk-toggleable__control:checked~label.sk-toggleable__label-arrow:before {content: \"▾\";}#sk-container-id-1 div.sk-estimator input.sk-toggleable__control:checked~label.sk-toggleable__label {background-color: #d4ebff;}#sk-container-id-1 div.sk-label input.sk-toggleable__control:checked~label.sk-toggleable__label {background-color: #d4ebff;}#sk-container-id-1 input.sk-hidden--visually {border: 0;clip: rect(1px 1px 1px 1px);clip: rect(1px, 1px, 1px, 1px);height: 1px;margin: -1px;overflow: hidden;padding: 0;position: absolute;width: 1px;}#sk-container-id-1 div.sk-estimator {font-family: monospace;background-color: #f0f8ff;border: 1px dotted black;border-radius: 0.25em;box-sizing: border-box;margin-bottom: 0.5em;}#sk-container-id-1 div.sk-estimator:hover {background-color: #d4ebff;}#sk-container-id-1 div.sk-parallel-item::after {content: \"\";width: 100%;border-bottom: 1px solid gray;flex-grow: 1;}#sk-container-id-1 div.sk-label:hover label.sk-toggleable__label {background-color: #d4ebff;}#sk-container-id-1 div.sk-serial::before {content: \"\";position: absolute;border-left: 1px solid gray;box-sizing: border-box;top: 0;bottom: 0;left: 50%;z-index: 0;}#sk-container-id-1 div.sk-serial {display: flex;flex-direction: column;align-items: center;background-color: white;padding-right: 0.2em;padding-left: 0.2em;position: relative;}#sk-container-id-1 div.sk-item {position: relative;z-index: 1;}#sk-container-id-1 div.sk-parallel {display: flex;align-items: stretch;justify-content: center;background-color: white;position: relative;}#sk-container-id-1 div.sk-item::before, #sk-container-id-1 div.sk-parallel-item::before {content: \"\";position: absolute;border-left: 1px solid gray;box-sizing: border-box;top: 0;bottom: 0;left: 50%;z-index: -1;}#sk-container-id-1 div.sk-parallel-item {display: flex;flex-direction: column;z-index: 1;position: relative;background-color: white;}#sk-container-id-1 div.sk-parallel-item:first-child::after {align-self: flex-end;width: 50%;}#sk-container-id-1 div.sk-parallel-item:last-child::after {align-self: flex-start;width: 50%;}#sk-container-id-1 div.sk-parallel-item:only-child::after {width: 0;}#sk-container-id-1 div.sk-dashed-wrapped {border: 1px dashed gray;margin: 0 0.4em 0.5em 0.4em;box-sizing: border-box;padding-bottom: 0.4em;background-color: white;}#sk-container-id-1 div.sk-label label {font-family: monospace;font-weight: bold;display: inline-block;line-height: 1.2em;}#sk-container-id-1 div.sk-label-container {text-align: center;}#sk-container-id-1 div.sk-container {/* jupyter's `normalize.less` sets `[hidden] { display: none; }` but bootstrap.min.css set `[hidden] { display: none !important; }` so we also need the `!important` here to be able to override the default hidden behavior on the sphinx rendered scikit-learn.org. See: https://github.com/scikit-learn/scikit-learn/issues/21755 */display: inline-block !important;position: relative;}#sk-container-id-1 div.sk-text-repr-fallback {display: none;}</style><div id=\"sk-container-id-1\" class=\"sk-top-container\"><div class=\"sk-text-repr-fallback\"><pre>GridSearchCV(estimator=Ridge(),\n",
       "             param_grid={&#x27;alpha&#x27;: [0.05, 0.1, 0.2, 0.5, 0.8]})</pre><b>In a Jupyter environment, please rerun this cell to show the HTML representation or trust the notebook. <br />On GitHub, the HTML representation is unable to render, please try loading this page with nbviewer.org.</b></div><div class=\"sk-container\" hidden><div class=\"sk-item sk-dashed-wrapped\"><div class=\"sk-label-container\"><div class=\"sk-label sk-toggleable\"><input class=\"sk-toggleable__control sk-hidden--visually\" id=\"sk-estimator-id-1\" type=\"checkbox\" ><label for=\"sk-estimator-id-1\" class=\"sk-toggleable__label sk-toggleable__label-arrow\">GridSearchCV</label><div class=\"sk-toggleable__content\"><pre>GridSearchCV(estimator=Ridge(),\n",
       "             param_grid={&#x27;alpha&#x27;: [0.05, 0.1, 0.2, 0.5, 0.8]})</pre></div></div></div><div class=\"sk-parallel\"><div class=\"sk-parallel-item\"><div class=\"sk-item\"><div class=\"sk-label-container\"><div class=\"sk-label sk-toggleable\"><input class=\"sk-toggleable__control sk-hidden--visually\" id=\"sk-estimator-id-2\" type=\"checkbox\" ><label for=\"sk-estimator-id-2\" class=\"sk-toggleable__label sk-toggleable__label-arrow\">estimator: Ridge</label><div class=\"sk-toggleable__content\"><pre>Ridge()</pre></div></div></div><div class=\"sk-serial\"><div class=\"sk-item\"><div class=\"sk-estimator sk-toggleable\"><input class=\"sk-toggleable__control sk-hidden--visually\" id=\"sk-estimator-id-3\" type=\"checkbox\" ><label for=\"sk-estimator-id-3\" class=\"sk-toggleable__label sk-toggleable__label-arrow\">Ridge</label><div class=\"sk-toggleable__content\"><pre>Ridge()</pre></div></div></div></div></div></div></div></div></div></div>"
      ],
      "text/plain": [
       "GridSearchCV(estimator=Ridge(),\n",
       "             param_grid={'alpha': [0.05, 0.1, 0.2, 0.5, 0.8]})"
      ]
     },
     "execution_count": 202,
     "metadata": {},
     "output_type": "execute_result"
    }
   ],
   "source": [
    "grid.fit(xtr,ytr)"
   ]
  },
  {
   "cell_type": "code",
   "execution_count": 203,
   "id": "0f7c804f",
   "metadata": {},
   "outputs": [
    {
     "data": {
      "text/plain": [
       "{'alpha': 0.8}"
      ]
     },
     "execution_count": 203,
     "metadata": {},
     "output_type": "execute_result"
    }
   ],
   "source": [
    "grid.best_params_"
   ]
  },
  {
   "cell_type": "code",
   "execution_count": 204,
   "id": "a741c95a",
   "metadata": {},
   "outputs": [],
   "source": [
    "ridge=Ridge(alpha=0.8)"
   ]
  },
  {
   "cell_type": "code",
   "execution_count": 205,
   "id": "4efd9df4",
   "metadata": {},
   "outputs": [],
   "source": [
    "ri2=ridge.fit(xtr,ytr)"
   ]
  },
  {
   "cell_type": "code",
   "execution_count": 206,
   "id": "9ee3c3bb",
   "metadata": {},
   "outputs": [],
   "source": [
    "rypred1=ri1.predict(xte)"
   ]
  },
  {
   "cell_type": "code",
   "execution_count": 207,
   "id": "7b246112",
   "metadata": {},
   "outputs": [],
   "source": [
    "rrm1=np.sqrt(mean_squared_error(rypred,yte))"
   ]
  },
  {
   "cell_type": "code",
   "execution_count": 212,
   "id": "ed312608",
   "metadata": {},
   "outputs": [
    {
     "data": {
      "text/plain": [
       "0.3973824637456064"
      ]
     },
     "execution_count": 212,
     "metadata": {},
     "output_type": "execute_result"
    }
   ],
   "source": [
    "rrm1"
   ]
  },
  {
   "cell_type": "code",
   "execution_count": 226,
   "id": "99c2d6e5",
   "metadata": {},
   "outputs": [],
   "source": [
    "rr1=np.sqrt(r2_score(rypred,yte))"
   ]
  },
  {
   "cell_type": "code",
   "execution_count": 227,
   "id": "d4da1742",
   "metadata": {},
   "outputs": [
    {
     "data": {
      "text/plain": [
       "0.9151162460148916"
      ]
     },
     "execution_count": 227,
     "metadata": {},
     "output_type": "execute_result"
    }
   ],
   "source": [
    "rr1"
   ]
  },
  {
   "cell_type": "markdown",
   "id": "7a8d1e8f",
   "metadata": {},
   "source": [
    "## Lasso"
   ]
  },
  {
   "cell_type": "code",
   "execution_count": 213,
   "id": "5c6bc912",
   "metadata": {},
   "outputs": [],
   "source": [
    "lasso=Lasso()"
   ]
  },
  {
   "cell_type": "code",
   "execution_count": 214,
   "id": "7fb26eb9",
   "metadata": {},
   "outputs": [],
   "source": [
    "params={'alpha':[0.05,0.1,0.2,0.5,0.8]}"
   ]
  },
  {
   "cell_type": "code",
   "execution_count": 215,
   "id": "e5f645f6",
   "metadata": {},
   "outputs": [],
   "source": [
    "grid=GridSearchCV(estimator=lasso, param_grid=params)"
   ]
  },
  {
   "cell_type": "code",
   "execution_count": 216,
   "id": "14042bee",
   "metadata": {},
   "outputs": [
    {
     "data": {
      "text/html": [
       "<style>#sk-container-id-2 {color: black;background-color: white;}#sk-container-id-2 pre{padding: 0;}#sk-container-id-2 div.sk-toggleable {background-color: white;}#sk-container-id-2 label.sk-toggleable__label {cursor: pointer;display: block;width: 100%;margin-bottom: 0;padding: 0.3em;box-sizing: border-box;text-align: center;}#sk-container-id-2 label.sk-toggleable__label-arrow:before {content: \"▸\";float: left;margin-right: 0.25em;color: #696969;}#sk-container-id-2 label.sk-toggleable__label-arrow:hover:before {color: black;}#sk-container-id-2 div.sk-estimator:hover label.sk-toggleable__label-arrow:before {color: black;}#sk-container-id-2 div.sk-toggleable__content {max-height: 0;max-width: 0;overflow: hidden;text-align: left;background-color: #f0f8ff;}#sk-container-id-2 div.sk-toggleable__content pre {margin: 0.2em;color: black;border-radius: 0.25em;background-color: #f0f8ff;}#sk-container-id-2 input.sk-toggleable__control:checked~div.sk-toggleable__content {max-height: 200px;max-width: 100%;overflow: auto;}#sk-container-id-2 input.sk-toggleable__control:checked~label.sk-toggleable__label-arrow:before {content: \"▾\";}#sk-container-id-2 div.sk-estimator input.sk-toggleable__control:checked~label.sk-toggleable__label {background-color: #d4ebff;}#sk-container-id-2 div.sk-label input.sk-toggleable__control:checked~label.sk-toggleable__label {background-color: #d4ebff;}#sk-container-id-2 input.sk-hidden--visually {border: 0;clip: rect(1px 1px 1px 1px);clip: rect(1px, 1px, 1px, 1px);height: 1px;margin: -1px;overflow: hidden;padding: 0;position: absolute;width: 1px;}#sk-container-id-2 div.sk-estimator {font-family: monospace;background-color: #f0f8ff;border: 1px dotted black;border-radius: 0.25em;box-sizing: border-box;margin-bottom: 0.5em;}#sk-container-id-2 div.sk-estimator:hover {background-color: #d4ebff;}#sk-container-id-2 div.sk-parallel-item::after {content: \"\";width: 100%;border-bottom: 1px solid gray;flex-grow: 1;}#sk-container-id-2 div.sk-label:hover label.sk-toggleable__label {background-color: #d4ebff;}#sk-container-id-2 div.sk-serial::before {content: \"\";position: absolute;border-left: 1px solid gray;box-sizing: border-box;top: 0;bottom: 0;left: 50%;z-index: 0;}#sk-container-id-2 div.sk-serial {display: flex;flex-direction: column;align-items: center;background-color: white;padding-right: 0.2em;padding-left: 0.2em;position: relative;}#sk-container-id-2 div.sk-item {position: relative;z-index: 1;}#sk-container-id-2 div.sk-parallel {display: flex;align-items: stretch;justify-content: center;background-color: white;position: relative;}#sk-container-id-2 div.sk-item::before, #sk-container-id-2 div.sk-parallel-item::before {content: \"\";position: absolute;border-left: 1px solid gray;box-sizing: border-box;top: 0;bottom: 0;left: 50%;z-index: -1;}#sk-container-id-2 div.sk-parallel-item {display: flex;flex-direction: column;z-index: 1;position: relative;background-color: white;}#sk-container-id-2 div.sk-parallel-item:first-child::after {align-self: flex-end;width: 50%;}#sk-container-id-2 div.sk-parallel-item:last-child::after {align-self: flex-start;width: 50%;}#sk-container-id-2 div.sk-parallel-item:only-child::after {width: 0;}#sk-container-id-2 div.sk-dashed-wrapped {border: 1px dashed gray;margin: 0 0.4em 0.5em 0.4em;box-sizing: border-box;padding-bottom: 0.4em;background-color: white;}#sk-container-id-2 div.sk-label label {font-family: monospace;font-weight: bold;display: inline-block;line-height: 1.2em;}#sk-container-id-2 div.sk-label-container {text-align: center;}#sk-container-id-2 div.sk-container {/* jupyter's `normalize.less` sets `[hidden] { display: none; }` but bootstrap.min.css set `[hidden] { display: none !important; }` so we also need the `!important` here to be able to override the default hidden behavior on the sphinx rendered scikit-learn.org. See: https://github.com/scikit-learn/scikit-learn/issues/21755 */display: inline-block !important;position: relative;}#sk-container-id-2 div.sk-text-repr-fallback {display: none;}</style><div id=\"sk-container-id-2\" class=\"sk-top-container\"><div class=\"sk-text-repr-fallback\"><pre>GridSearchCV(estimator=Lasso(),\n",
       "             param_grid={&#x27;alpha&#x27;: [0.05, 0.1, 0.2, 0.5, 0.8]})</pre><b>In a Jupyter environment, please rerun this cell to show the HTML representation or trust the notebook. <br />On GitHub, the HTML representation is unable to render, please try loading this page with nbviewer.org.</b></div><div class=\"sk-container\" hidden><div class=\"sk-item sk-dashed-wrapped\"><div class=\"sk-label-container\"><div class=\"sk-label sk-toggleable\"><input class=\"sk-toggleable__control sk-hidden--visually\" id=\"sk-estimator-id-4\" type=\"checkbox\" ><label for=\"sk-estimator-id-4\" class=\"sk-toggleable__label sk-toggleable__label-arrow\">GridSearchCV</label><div class=\"sk-toggleable__content\"><pre>GridSearchCV(estimator=Lasso(),\n",
       "             param_grid={&#x27;alpha&#x27;: [0.05, 0.1, 0.2, 0.5, 0.8]})</pre></div></div></div><div class=\"sk-parallel\"><div class=\"sk-parallel-item\"><div class=\"sk-item\"><div class=\"sk-label-container\"><div class=\"sk-label sk-toggleable\"><input class=\"sk-toggleable__control sk-hidden--visually\" id=\"sk-estimator-id-5\" type=\"checkbox\" ><label for=\"sk-estimator-id-5\" class=\"sk-toggleable__label sk-toggleable__label-arrow\">estimator: Lasso</label><div class=\"sk-toggleable__content\"><pre>Lasso()</pre></div></div></div><div class=\"sk-serial\"><div class=\"sk-item\"><div class=\"sk-estimator sk-toggleable\"><input class=\"sk-toggleable__control sk-hidden--visually\" id=\"sk-estimator-id-6\" type=\"checkbox\" ><label for=\"sk-estimator-id-6\" class=\"sk-toggleable__label sk-toggleable__label-arrow\">Lasso</label><div class=\"sk-toggleable__content\"><pre>Lasso()</pre></div></div></div></div></div></div></div></div></div></div>"
      ],
      "text/plain": [
       "GridSearchCV(estimator=Lasso(),\n",
       "             param_grid={'alpha': [0.05, 0.1, 0.2, 0.5, 0.8]})"
      ]
     },
     "execution_count": 216,
     "metadata": {},
     "output_type": "execute_result"
    }
   ],
   "source": [
    "grid.fit(xtr,ytr)"
   ]
  },
  {
   "cell_type": "code",
   "execution_count": 217,
   "id": "fdf1f128",
   "metadata": {},
   "outputs": [
    {
     "data": {
      "text/plain": [
       "{'alpha': 0.05}"
      ]
     },
     "execution_count": 217,
     "metadata": {},
     "output_type": "execute_result"
    }
   ],
   "source": [
    "grid.best_params_"
   ]
  },
  {
   "cell_type": "code",
   "execution_count": 231,
   "id": "83f2ff60",
   "metadata": {},
   "outputs": [],
   "source": [
    "lasso=Lasso(alpha=0.05)"
   ]
  },
  {
   "cell_type": "code",
   "execution_count": 232,
   "id": "28dac9a3",
   "metadata": {},
   "outputs": [],
   "source": [
    "ls=lasso.fit(xtr,ytr)"
   ]
  },
  {
   "cell_type": "code",
   "execution_count": 233,
   "id": "d18adfc7",
   "metadata": {},
   "outputs": [],
   "source": [
    "lypred=ls.predict(xte)"
   ]
  },
  {
   "cell_type": "code",
   "execution_count": 234,
   "id": "a4cea56e",
   "metadata": {},
   "outputs": [],
   "source": [
    "lrm1=np.sqrt(mean_squared_error(lypred,yte))"
   ]
  },
  {
   "cell_type": "code",
   "execution_count": 235,
   "id": "9bd02f23",
   "metadata": {},
   "outputs": [
    {
     "data": {
      "text/plain": [
       "0.46292587774608984"
      ]
     },
     "execution_count": 235,
     "metadata": {},
     "output_type": "execute_result"
    }
   ],
   "source": [
    "lrm1"
   ]
  },
  {
   "cell_type": "code",
   "execution_count": 237,
   "id": "5b7dce81",
   "metadata": {},
   "outputs": [],
   "source": [
    "larr=r2_score(lypred,yte)"
   ]
  },
  {
   "cell_type": "code",
   "execution_count": 238,
   "id": "e939ad63",
   "metadata": {},
   "outputs": [
    {
     "data": {
      "text/plain": [
       "0.7491285959283985"
      ]
     },
     "execution_count": 238,
     "metadata": {},
     "output_type": "execute_result"
    }
   ],
   "source": [
    "larr"
   ]
  },
  {
   "cell_type": "markdown",
   "id": "34c3ef90",
   "metadata": {},
   "source": [
    "## Elastic Net"
   ]
  },
  {
   "cell_type": "code",
   "execution_count": 239,
   "id": "e2cf963b",
   "metadata": {},
   "outputs": [],
   "source": [
    "from sklearn.linear_model import ElasticNet"
   ]
  },
  {
   "cell_type": "code",
   "execution_count": 240,
   "id": "8387aff2",
   "metadata": {},
   "outputs": [],
   "source": [
    "enet=ElasticNet()"
   ]
  },
  {
   "cell_type": "code",
   "execution_count": 241,
   "id": "3e6213a0",
   "metadata": {},
   "outputs": [],
   "source": [
    "params={'alpha':[0.01,0.02,0.5,0.7],'l1_ratio':[0.2,0.4,0.5]}"
   ]
  },
  {
   "cell_type": "code",
   "execution_count": 242,
   "id": "01d63f26",
   "metadata": {},
   "outputs": [],
   "source": [
    "grid=GridSearchCV(estimator=enet,param_grid=params)"
   ]
  },
  {
   "cell_type": "code",
   "execution_count": 243,
   "id": "59fd3761",
   "metadata": {},
   "outputs": [
    {
     "data": {
      "text/html": [
       "<style>#sk-container-id-3 {color: black;background-color: white;}#sk-container-id-3 pre{padding: 0;}#sk-container-id-3 div.sk-toggleable {background-color: white;}#sk-container-id-3 label.sk-toggleable__label {cursor: pointer;display: block;width: 100%;margin-bottom: 0;padding: 0.3em;box-sizing: border-box;text-align: center;}#sk-container-id-3 label.sk-toggleable__label-arrow:before {content: \"▸\";float: left;margin-right: 0.25em;color: #696969;}#sk-container-id-3 label.sk-toggleable__label-arrow:hover:before {color: black;}#sk-container-id-3 div.sk-estimator:hover label.sk-toggleable__label-arrow:before {color: black;}#sk-container-id-3 div.sk-toggleable__content {max-height: 0;max-width: 0;overflow: hidden;text-align: left;background-color: #f0f8ff;}#sk-container-id-3 div.sk-toggleable__content pre {margin: 0.2em;color: black;border-radius: 0.25em;background-color: #f0f8ff;}#sk-container-id-3 input.sk-toggleable__control:checked~div.sk-toggleable__content {max-height: 200px;max-width: 100%;overflow: auto;}#sk-container-id-3 input.sk-toggleable__control:checked~label.sk-toggleable__label-arrow:before {content: \"▾\";}#sk-container-id-3 div.sk-estimator input.sk-toggleable__control:checked~label.sk-toggleable__label {background-color: #d4ebff;}#sk-container-id-3 div.sk-label input.sk-toggleable__control:checked~label.sk-toggleable__label {background-color: #d4ebff;}#sk-container-id-3 input.sk-hidden--visually {border: 0;clip: rect(1px 1px 1px 1px);clip: rect(1px, 1px, 1px, 1px);height: 1px;margin: -1px;overflow: hidden;padding: 0;position: absolute;width: 1px;}#sk-container-id-3 div.sk-estimator {font-family: monospace;background-color: #f0f8ff;border: 1px dotted black;border-radius: 0.25em;box-sizing: border-box;margin-bottom: 0.5em;}#sk-container-id-3 div.sk-estimator:hover {background-color: #d4ebff;}#sk-container-id-3 div.sk-parallel-item::after {content: \"\";width: 100%;border-bottom: 1px solid gray;flex-grow: 1;}#sk-container-id-3 div.sk-label:hover label.sk-toggleable__label {background-color: #d4ebff;}#sk-container-id-3 div.sk-serial::before {content: \"\";position: absolute;border-left: 1px solid gray;box-sizing: border-box;top: 0;bottom: 0;left: 50%;z-index: 0;}#sk-container-id-3 div.sk-serial {display: flex;flex-direction: column;align-items: center;background-color: white;padding-right: 0.2em;padding-left: 0.2em;position: relative;}#sk-container-id-3 div.sk-item {position: relative;z-index: 1;}#sk-container-id-3 div.sk-parallel {display: flex;align-items: stretch;justify-content: center;background-color: white;position: relative;}#sk-container-id-3 div.sk-item::before, #sk-container-id-3 div.sk-parallel-item::before {content: \"\";position: absolute;border-left: 1px solid gray;box-sizing: border-box;top: 0;bottom: 0;left: 50%;z-index: -1;}#sk-container-id-3 div.sk-parallel-item {display: flex;flex-direction: column;z-index: 1;position: relative;background-color: white;}#sk-container-id-3 div.sk-parallel-item:first-child::after {align-self: flex-end;width: 50%;}#sk-container-id-3 div.sk-parallel-item:last-child::after {align-self: flex-start;width: 50%;}#sk-container-id-3 div.sk-parallel-item:only-child::after {width: 0;}#sk-container-id-3 div.sk-dashed-wrapped {border: 1px dashed gray;margin: 0 0.4em 0.5em 0.4em;box-sizing: border-box;padding-bottom: 0.4em;background-color: white;}#sk-container-id-3 div.sk-label label {font-family: monospace;font-weight: bold;display: inline-block;line-height: 1.2em;}#sk-container-id-3 div.sk-label-container {text-align: center;}#sk-container-id-3 div.sk-container {/* jupyter's `normalize.less` sets `[hidden] { display: none; }` but bootstrap.min.css set `[hidden] { display: none !important; }` so we also need the `!important` here to be able to override the default hidden behavior on the sphinx rendered scikit-learn.org. See: https://github.com/scikit-learn/scikit-learn/issues/21755 */display: inline-block !important;position: relative;}#sk-container-id-3 div.sk-text-repr-fallback {display: none;}</style><div id=\"sk-container-id-3\" class=\"sk-top-container\"><div class=\"sk-text-repr-fallback\"><pre>GridSearchCV(estimator=ElasticNet(),\n",
       "             param_grid={&#x27;alpha&#x27;: [0.01, 0.02, 0.5, 0.7],\n",
       "                         &#x27;l1_ratio&#x27;: [0.2, 0.4, 0.5]})</pre><b>In a Jupyter environment, please rerun this cell to show the HTML representation or trust the notebook. <br />On GitHub, the HTML representation is unable to render, please try loading this page with nbviewer.org.</b></div><div class=\"sk-container\" hidden><div class=\"sk-item sk-dashed-wrapped\"><div class=\"sk-label-container\"><div class=\"sk-label sk-toggleable\"><input class=\"sk-toggleable__control sk-hidden--visually\" id=\"sk-estimator-id-7\" type=\"checkbox\" ><label for=\"sk-estimator-id-7\" class=\"sk-toggleable__label sk-toggleable__label-arrow\">GridSearchCV</label><div class=\"sk-toggleable__content\"><pre>GridSearchCV(estimator=ElasticNet(),\n",
       "             param_grid={&#x27;alpha&#x27;: [0.01, 0.02, 0.5, 0.7],\n",
       "                         &#x27;l1_ratio&#x27;: [0.2, 0.4, 0.5]})</pre></div></div></div><div class=\"sk-parallel\"><div class=\"sk-parallel-item\"><div class=\"sk-item\"><div class=\"sk-label-container\"><div class=\"sk-label sk-toggleable\"><input class=\"sk-toggleable__control sk-hidden--visually\" id=\"sk-estimator-id-8\" type=\"checkbox\" ><label for=\"sk-estimator-id-8\" class=\"sk-toggleable__label sk-toggleable__label-arrow\">estimator: ElasticNet</label><div class=\"sk-toggleable__content\"><pre>ElasticNet()</pre></div></div></div><div class=\"sk-serial\"><div class=\"sk-item\"><div class=\"sk-estimator sk-toggleable\"><input class=\"sk-toggleable__control sk-hidden--visually\" id=\"sk-estimator-id-9\" type=\"checkbox\" ><label for=\"sk-estimator-id-9\" class=\"sk-toggleable__label sk-toggleable__label-arrow\">ElasticNet</label><div class=\"sk-toggleable__content\"><pre>ElasticNet()</pre></div></div></div></div></div></div></div></div></div></div>"
      ],
      "text/plain": [
       "GridSearchCV(estimator=ElasticNet(),\n",
       "             param_grid={'alpha': [0.01, 0.02, 0.5, 0.7],\n",
       "                         'l1_ratio': [0.2, 0.4, 0.5]})"
      ]
     },
     "execution_count": 243,
     "metadata": {},
     "output_type": "execute_result"
    }
   ],
   "source": [
    "grid.fit(xtr,ytr)"
   ]
  },
  {
   "cell_type": "code",
   "execution_count": 244,
   "id": "5db2a347",
   "metadata": {},
   "outputs": [
    {
     "data": {
      "text/plain": [
       "{'alpha': 0.01, 'l1_ratio': 0.2}"
      ]
     },
     "execution_count": 244,
     "metadata": {},
     "output_type": "execute_result"
    }
   ],
   "source": [
    "grid.best_params_"
   ]
  },
  {
   "cell_type": "code",
   "execution_count": 245,
   "id": "cbc69369",
   "metadata": {},
   "outputs": [],
   "source": [
    "enet=ElasticNet(alpha=0.01,l1_ratio=0.2)"
   ]
  },
  {
   "cell_type": "code",
   "execution_count": 246,
   "id": "7ca0021c",
   "metadata": {},
   "outputs": [
    {
     "data": {
      "text/html": [
       "<style>#sk-container-id-4 {color: black;background-color: white;}#sk-container-id-4 pre{padding: 0;}#sk-container-id-4 div.sk-toggleable {background-color: white;}#sk-container-id-4 label.sk-toggleable__label {cursor: pointer;display: block;width: 100%;margin-bottom: 0;padding: 0.3em;box-sizing: border-box;text-align: center;}#sk-container-id-4 label.sk-toggleable__label-arrow:before {content: \"▸\";float: left;margin-right: 0.25em;color: #696969;}#sk-container-id-4 label.sk-toggleable__label-arrow:hover:before {color: black;}#sk-container-id-4 div.sk-estimator:hover label.sk-toggleable__label-arrow:before {color: black;}#sk-container-id-4 div.sk-toggleable__content {max-height: 0;max-width: 0;overflow: hidden;text-align: left;background-color: #f0f8ff;}#sk-container-id-4 div.sk-toggleable__content pre {margin: 0.2em;color: black;border-radius: 0.25em;background-color: #f0f8ff;}#sk-container-id-4 input.sk-toggleable__control:checked~div.sk-toggleable__content {max-height: 200px;max-width: 100%;overflow: auto;}#sk-container-id-4 input.sk-toggleable__control:checked~label.sk-toggleable__label-arrow:before {content: \"▾\";}#sk-container-id-4 div.sk-estimator input.sk-toggleable__control:checked~label.sk-toggleable__label {background-color: #d4ebff;}#sk-container-id-4 div.sk-label input.sk-toggleable__control:checked~label.sk-toggleable__label {background-color: #d4ebff;}#sk-container-id-4 input.sk-hidden--visually {border: 0;clip: rect(1px 1px 1px 1px);clip: rect(1px, 1px, 1px, 1px);height: 1px;margin: -1px;overflow: hidden;padding: 0;position: absolute;width: 1px;}#sk-container-id-4 div.sk-estimator {font-family: monospace;background-color: #f0f8ff;border: 1px dotted black;border-radius: 0.25em;box-sizing: border-box;margin-bottom: 0.5em;}#sk-container-id-4 div.sk-estimator:hover {background-color: #d4ebff;}#sk-container-id-4 div.sk-parallel-item::after {content: \"\";width: 100%;border-bottom: 1px solid gray;flex-grow: 1;}#sk-container-id-4 div.sk-label:hover label.sk-toggleable__label {background-color: #d4ebff;}#sk-container-id-4 div.sk-serial::before {content: \"\";position: absolute;border-left: 1px solid gray;box-sizing: border-box;top: 0;bottom: 0;left: 50%;z-index: 0;}#sk-container-id-4 div.sk-serial {display: flex;flex-direction: column;align-items: center;background-color: white;padding-right: 0.2em;padding-left: 0.2em;position: relative;}#sk-container-id-4 div.sk-item {position: relative;z-index: 1;}#sk-container-id-4 div.sk-parallel {display: flex;align-items: stretch;justify-content: center;background-color: white;position: relative;}#sk-container-id-4 div.sk-item::before, #sk-container-id-4 div.sk-parallel-item::before {content: \"\";position: absolute;border-left: 1px solid gray;box-sizing: border-box;top: 0;bottom: 0;left: 50%;z-index: -1;}#sk-container-id-4 div.sk-parallel-item {display: flex;flex-direction: column;z-index: 1;position: relative;background-color: white;}#sk-container-id-4 div.sk-parallel-item:first-child::after {align-self: flex-end;width: 50%;}#sk-container-id-4 div.sk-parallel-item:last-child::after {align-self: flex-start;width: 50%;}#sk-container-id-4 div.sk-parallel-item:only-child::after {width: 0;}#sk-container-id-4 div.sk-dashed-wrapped {border: 1px dashed gray;margin: 0 0.4em 0.5em 0.4em;box-sizing: border-box;padding-bottom: 0.4em;background-color: white;}#sk-container-id-4 div.sk-label label {font-family: monospace;font-weight: bold;display: inline-block;line-height: 1.2em;}#sk-container-id-4 div.sk-label-container {text-align: center;}#sk-container-id-4 div.sk-container {/* jupyter's `normalize.less` sets `[hidden] { display: none; }` but bootstrap.min.css set `[hidden] { display: none !important; }` so we also need the `!important` here to be able to override the default hidden behavior on the sphinx rendered scikit-learn.org. See: https://github.com/scikit-learn/scikit-learn/issues/21755 */display: inline-block !important;position: relative;}#sk-container-id-4 div.sk-text-repr-fallback {display: none;}</style><div id=\"sk-container-id-4\" class=\"sk-top-container\"><div class=\"sk-text-repr-fallback\"><pre>ElasticNet(alpha=0.01, l1_ratio=0.2)</pre><b>In a Jupyter environment, please rerun this cell to show the HTML representation or trust the notebook. <br />On GitHub, the HTML representation is unable to render, please try loading this page with nbviewer.org.</b></div><div class=\"sk-container\" hidden><div class=\"sk-item\"><div class=\"sk-estimator sk-toggleable\"><input class=\"sk-toggleable__control sk-hidden--visually\" id=\"sk-estimator-id-10\" type=\"checkbox\" checked><label for=\"sk-estimator-id-10\" class=\"sk-toggleable__label sk-toggleable__label-arrow\">ElasticNet</label><div class=\"sk-toggleable__content\"><pre>ElasticNet(alpha=0.01, l1_ratio=0.2)</pre></div></div></div></div></div>"
      ],
      "text/plain": [
       "ElasticNet(alpha=0.01, l1_ratio=0.2)"
      ]
     },
     "execution_count": 246,
     "metadata": {},
     "output_type": "execute_result"
    }
   ],
   "source": [
    "enet.fit(xtr,ytr)"
   ]
  },
  {
   "cell_type": "code",
   "execution_count": 248,
   "id": "b340e86d",
   "metadata": {},
   "outputs": [],
   "source": [
    "eypred=enet.predict(xte)"
   ]
  },
  {
   "cell_type": "code",
   "execution_count": 251,
   "id": "65c091aa",
   "metadata": {},
   "outputs": [
    {
     "data": {
      "text/plain": [
       "0.39385908173271733"
      ]
     },
     "execution_count": 251,
     "metadata": {},
     "output_type": "execute_result"
    }
   ],
   "source": [
    "erm=np.sqrt(mean_squared_error(eypred,yte))\n",
    "erm"
   ]
  },
  {
   "cell_type": "code",
   "execution_count": 253,
   "id": "ea07775a",
   "metadata": {},
   "outputs": [],
   "source": [
    "err=r2_score(eypred,yte)"
   ]
  },
  {
   "cell_type": "code",
   "execution_count": 268,
   "id": "7e13c493",
   "metadata": {},
   "outputs": [],
   "source": [
    "result=pd.DataFrame()"
   ]
  },
  {
   "cell_type": "code",
   "execution_count": 263,
   "id": "e8827333",
   "metadata": {},
   "outputs": [
    {
     "data": {
      "text/plain": [
       "[['Linear', 'Ridge', 'Lasso', 'Elastic Net']]"
      ]
     },
     "execution_count": 263,
     "metadata": {},
     "output_type": "execute_result"
    }
   ],
   "source": [
    "[['Linear','Ridge','Lasso','Elastic Net']]"
   ]
  },
  {
   "cell_type": "code",
   "execution_count": 264,
   "id": "147806ff",
   "metadata": {},
   "outputs": [
    {
     "data": {
      "text/plain": [
       "[0.3084428329860027,\n",
       " 0.3973824637456064,\n",
       " 0.46292587774608984,\n",
       " 0.39385908173271733]"
      ]
     },
     "execution_count": 264,
     "metadata": {},
     "output_type": "execute_result"
    }
   ],
   "source": [
    "[lrm,rrm1,lrm1,erm]"
   ]
  },
  {
   "cell_type": "code",
   "execution_count": 266,
   "id": "2b6010f7",
   "metadata": {},
   "outputs": [
    {
     "data": {
      "text/plain": [
       "[0.9113825445166048,\n",
       " 0.9151162460148916,\n",
       " 0.7491285959283985,\n",
       " 0.8350821906539376]"
      ]
     },
     "execution_count": 266,
     "metadata": {},
     "output_type": "execute_result"
    }
   ],
   "source": [
    "[lrr,rr1,larr,err]"
   ]
  },
  {
   "cell_type": "code",
   "execution_count": 272,
   "id": "825f7737",
   "metadata": {},
   "outputs": [],
   "source": [
    "result['Model']=np.array(['Linear','Ridge','Lasso','ElasticNet'])\n",
    "result['RMSE']=np.array([lrm,rrm1,lrm1,erm])\n",
    "result['R-Square']=np.array([lrr,rr1,larr,err])"
   ]
  },
  {
   "cell_type": "code",
   "execution_count": 274,
   "id": "1697685a",
   "metadata": {},
   "outputs": [
    {
     "data": {
      "text/html": [
       "<div>\n",
       "<style scoped>\n",
       "    .dataframe tbody tr th:only-of-type {\n",
       "        vertical-align: middle;\n",
       "    }\n",
       "\n",
       "    .dataframe tbody tr th {\n",
       "        vertical-align: top;\n",
       "    }\n",
       "\n",
       "    .dataframe thead th {\n",
       "        text-align: right;\n",
       "    }\n",
       "</style>\n",
       "<table border=\"1\" class=\"dataframe\">\n",
       "  <thead>\n",
       "    <tr style=\"text-align: right;\">\n",
       "      <th></th>\n",
       "      <th>Model</th>\n",
       "      <th>RMSE</th>\n",
       "      <th>R-Square</th>\n",
       "    </tr>\n",
       "  </thead>\n",
       "  <tbody>\n",
       "    <tr>\n",
       "      <th>0</th>\n",
       "      <td>Linear</td>\n",
       "      <td>0.308443</td>\n",
       "      <td>0.911383</td>\n",
       "    </tr>\n",
       "    <tr>\n",
       "      <th>3</th>\n",
       "      <td>ElasticNet</td>\n",
       "      <td>0.393859</td>\n",
       "      <td>0.835082</td>\n",
       "    </tr>\n",
       "    <tr>\n",
       "      <th>1</th>\n",
       "      <td>Ridge</td>\n",
       "      <td>0.397382</td>\n",
       "      <td>0.915116</td>\n",
       "    </tr>\n",
       "    <tr>\n",
       "      <th>2</th>\n",
       "      <td>Lasso</td>\n",
       "      <td>0.462926</td>\n",
       "      <td>0.749129</td>\n",
       "    </tr>\n",
       "  </tbody>\n",
       "</table>\n",
       "</div>"
      ],
      "text/plain": [
       "        Model      RMSE  R-Square\n",
       "0      Linear  0.308443  0.911383\n",
       "3  ElasticNet  0.393859  0.835082\n",
       "1       Ridge  0.397382  0.915116\n",
       "2       Lasso  0.462926  0.749129"
      ]
     },
     "execution_count": 274,
     "metadata": {},
     "output_type": "execute_result"
    }
   ],
   "source": [
    "result.sort_values(by='RMSE',ascending=True)"
   ]
  },
  {
   "cell_type": "markdown",
   "id": "08910f87",
   "metadata": {},
   "source": [
    "From the model metrics we can say that Linear Model or regression works good in predicting the price of the car."
   ]
  },
  {
   "cell_type": "code",
   "execution_count": 278,
   "id": "9fd21adf",
   "metadata": {},
   "outputs": [
    {
     "data": {
      "text/html": [
       "<div>\n",
       "<style scoped>\n",
       "    .dataframe tbody tr th:only-of-type {\n",
       "        vertical-align: middle;\n",
       "    }\n",
       "\n",
       "    .dataframe tbody tr th {\n",
       "        vertical-align: top;\n",
       "    }\n",
       "\n",
       "    .dataframe thead th {\n",
       "        text-align: right;\n",
       "    }\n",
       "</style>\n",
       "<table border=\"1\" class=\"dataframe\">\n",
       "  <thead>\n",
       "    <tr style=\"text-align: right;\">\n",
       "      <th></th>\n",
       "      <th>Features</th>\n",
       "    </tr>\n",
       "  </thead>\n",
       "  <tbody>\n",
       "    <tr>\n",
       "      <th>1</th>\n",
       "      <td>symboling</td>\n",
       "    </tr>\n",
       "    <tr>\n",
       "      <th>2</th>\n",
       "      <td>drivewheel</td>\n",
       "    </tr>\n",
       "    <tr>\n",
       "      <th>3</th>\n",
       "      <td>enginelocation</td>\n",
       "    </tr>\n",
       "    <tr>\n",
       "      <th>4</th>\n",
       "      <td>carwidth</td>\n",
       "    </tr>\n",
       "    <tr>\n",
       "      <th>5</th>\n",
       "      <td>curbweight</td>\n",
       "    </tr>\n",
       "    <tr>\n",
       "      <th>6</th>\n",
       "      <td>enginetype</td>\n",
       "    </tr>\n",
       "    <tr>\n",
       "      <th>7</th>\n",
       "      <td>cylindernumber</td>\n",
       "    </tr>\n",
       "    <tr>\n",
       "      <th>8</th>\n",
       "      <td>enginesize</td>\n",
       "    </tr>\n",
       "    <tr>\n",
       "      <th>9</th>\n",
       "      <td>stroke</td>\n",
       "    </tr>\n",
       "    <tr>\n",
       "      <th>10</th>\n",
       "      <td>peakrpm</td>\n",
       "    </tr>\n",
       "  </tbody>\n",
       "</table>\n",
       "</div>"
      ],
      "text/plain": [
       "          Features\n",
       "1        symboling\n",
       "2       drivewheel\n",
       "3   enginelocation\n",
       "4         carwidth\n",
       "5       curbweight\n",
       "6       enginetype\n",
       "7   cylindernumber\n",
       "8       enginesize\n",
       "9           stroke\n",
       "10         peakrpm"
      ]
     },
     "execution_count": 278,
     "metadata": {},
     "output_type": "execute_result"
    }
   ],
   "source": [
    "pd.DataFrame(lr.pvalues[lr.pvalues<0.05].index,columns=['Features']).drop(index=0)"
   ]
  },
  {
   "cell_type": "markdown",
   "id": "383d3690",
   "metadata": {},
   "source": [
    "The above features are significant over the target variable 'price' and they determine the R square score at the maximum."
   ]
  }
 ],
 "metadata": {
  "kernelspec": {
   "display_name": "Python 3 (ipykernel)",
   "language": "python",
   "name": "python3"
  },
  "language_info": {
   "codemirror_mode": {
    "name": "ipython",
    "version": 3
   },
   "file_extension": ".py",
   "mimetype": "text/x-python",
   "name": "python",
   "nbconvert_exporter": "python",
   "pygments_lexer": "ipython3",
   "version": "3.9.12"
  }
 },
 "nbformat": 4,
 "nbformat_minor": 5
}
